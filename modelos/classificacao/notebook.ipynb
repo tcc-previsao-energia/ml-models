{
 "cells": [
  {
   "cell_type": "code",
   "execution_count": 12,
   "metadata": {},
   "outputs": [],
   "source": [
    "import os\n",
    "import sys\n",
    "project_dir = os.path.abspath(os.path.join(os.getcwd(), '../..'))\n",
    "if project_dir not in sys.path:\n",
    "    sys.path.append(project_dir)\n",
    "utils_path = project_dir.join(\"utils\")\n",
    "sys.path.append(utils_path)\n",
    "from util.utils import upload_file_to_s3, download_file_from_s3\n",
    "import pandas as pd\n",
    "import numpy as np\n",
    "import matplotlib.pyplot as plt"
   ]
  },
  {
   "cell_type": "code",
   "execution_count": 13,
   "metadata": {},
   "outputs": [
    {
     "name": "stdout",
     "output_type": "stream",
     "text": [
      "Arquivo baixado com sucesso e salvo como ../../data/dados_unificados.csv!\n"
     ]
    }
   ],
   "source": [
    "nome_arquivo = 'dados_unificados.csv'\n",
    "url_s3 = f'https://tcc-gp06-analytics-prod.s3.amazonaws.com/consumed/{nome_arquivo}'\n",
    "download_file_from_s3(url_s3, f'../../data/{nome_arquivo}')"
   ]
  },
  {
   "cell_type": "code",
   "execution_count": 14,
   "metadata": {},
   "outputs": [],
   "source": [
    "dados = f'../../data/{nome_arquivo}'\n",
    "df = pd.read_csv(dados)"
   ]
  },
  {
   "cell_type": "markdown",
   "metadata": {},
   "source": [
    "### Pré-processamento"
   ]
  },
  {
   "cell_type": "markdown",
   "metadata": {},
   "source": [
    "#### Valores Nulos"
   ]
  },
  {
   "cell_type": "code",
   "execution_count": 15,
   "metadata": {},
   "outputs": [
    {
     "data": {
      "text/plain": [
       "empresa                               0\n",
       "data                                  0\n",
       "vl_abertura                           0\n",
       "vl_minimo                             0\n",
       "vl_maximo                             0\n",
       "vl_fechamento                         0\n",
       "pc_variacao_dia                       0\n",
       "qt_negociacoes                        0\n",
       "vl_dividendo                          0\n",
       "pc_desdobramento                      0\n",
       "vl_dolar                              0\n",
       "pc_inflacao_mes                       0\n",
       "pc_taxa_selic                         0\n",
       "lpa                               11354\n",
       "pl                                11354\n",
       "pvp                               11354\n",
       "p_ebit                            11354\n",
       "p_ebitda                          11354\n",
       "ebitda                            11354\n",
       "roe                               11354\n",
       "roic                              11354\n",
       "dy                                11354\n",
       "payout                            11354\n",
       "vl_receita_liquida                10610\n",
       "vl_resultado_bruto                10610\n",
       "pc_margem_bruta                   10610\n",
       "vl_resultado_operacional          10610\n",
       "vl_lucro_liquido                  10610\n",
       "pc_margem_liquida                 10610\n",
       "vl_mercado_empresa                    0\n",
       "qt_acoes_empresa                      0\n",
       "tp_governanca_empresa                 0\n",
       "qt_investidores_pf                    0\n",
       "qt_investidores_pj                    0\n",
       "qt_investidores_institucionais        0\n",
       "dtype: int64"
      ]
     },
     "execution_count": 15,
     "metadata": {},
     "output_type": "execute_result"
    }
   ],
   "source": [
    "df.isna().sum()"
   ]
  },
  {
   "cell_type": "markdown",
   "metadata": {},
   "source": [
    "#### identificando volumetria de nulos por empresa"
   ]
  },
  {
   "cell_type": "code",
   "execution_count": 16,
   "metadata": {},
   "outputs": [
    {
     "name": "stdout",
     "output_type": "stream",
     "text": [
      "   empresa  valores_nulos  total_registros\n",
      "0     AESB            0.0              792\n",
      "1     ALUP            0.0             2754\n",
      "2     AURE            0.0              544\n",
      "3     CMIG          250.0             6068\n",
      "4     COCE            0.0             6068\n",
      "5     CPFE         1006.0             6068\n",
      "6     CPLE          500.0             6068\n",
      "7     EGIE            0.0             5528\n",
      "8     ELET         2249.0             6068\n",
      "9     ENEV          258.0             4077\n",
      "10    ENGI            0.0             3611\n",
      "11    EQTL            0.0             4004\n",
      "12    NEOE            0.0             1223\n",
      "13    SRNA            0.0              606\n",
      "14    TAEE         1023.0             4098\n",
      "15    TRPL         6068.0             6068\n",
      "-------------------------------------------\n",
      "     Soma:         11354.0           63645\n"
     ]
    }
   ],
   "source": [
    "valores_nulos = df[df['lpa'].isnull()].groupby('empresa').size().reset_index(name='valores_nulos')\n",
    "total_registros = df.groupby('empresa').size().reset_index(name='total_registros')\n",
    "valores_nulos = pd.merge(valores_nulos, total_registros, on='empresa', how='right').fillna(0)\n",
    "\n",
    "print(valores_nulos)\n",
    "print(\"-------------------------------------------\")\n",
    "print(\"     Soma:        \", valores_nulos['valores_nulos'].sum(), \"         \", valores_nulos['total_registros'].sum())"
   ]
  },
  {
   "cell_type": "markdown",
   "metadata": {},
   "source": [
    "#### Removendo registros que possuem nulos"
   ]
  },
  {
   "cell_type": "code",
   "execution_count": 17,
   "metadata": {},
   "outputs": [],
   "source": [
    "df = df[df['lpa'].notnull()]\n",
    "df = df[df['pc_margem_liquida'].notnull()]"
   ]
  },
  {
   "cell_type": "markdown",
   "metadata": {},
   "source": [
    "### Selecionando empresas a partir de indicadores\n",
    "Filtro realizado da seguinte forma:\n",
    "1. Empresas que possuem os indicadores ROE e ROIC acima da média das empresas de energia\n",
    "2. Ordenando essas empresas por maior valor de mercado (por dezena de bilhão de R$)\n",
    "3. Ordenando pela quantidade de dados disponíveis\n",
    "4. Seleciando as 5 primeiras que aparecerem, as quais estão citadas abaixo:\n",
    "\n",
    "| Ticker | Empresa        | Valor Mercado | Qtd. Dados |\n",
    "| ------ | ---------------| ------------- | ---------- |\n",
    "| CPFE   | CPFL ENERGIA™  | R$ 40B        | 5062       |\n",
    "| EGIE   | Engie™         | R$ 36B        | 5528       |\n",
    "| EQTL   | Equatorial™    | R$ 35B        | 4004       |\n",
    "| CMIG   | Cemig™         | R$ 23B        | 5818       |\n",
    "| NEOE   | Neoenergia™    | R$ 24B        | 1223       |\n"
   ]
  },
  {
   "cell_type": "code",
   "execution_count": 18,
   "metadata": {},
   "outputs": [],
   "source": [
    "grouped_df = df.groupby('empresa').agg(\n",
    "    qt_negociacoes=('qt_negociacoes', 'mean'),\n",
    "    volume_dados=('empresa', 'size')\n",
    ").reset_index()\n",
    "\n",
    "ordered_df = grouped_df.sort_values(by=['qt_negociacoes', 'volume_dados'], ascending=[False, False])\n",
    "\n",
    "media_volume = ordered_df['volume_dados'].mean() # media de dados para análise\n",
    "media_negociacoes = ordered_df['qt_negociacoes'].mean() # média de negociações"
   ]
  },
  {
   "cell_type": "code",
   "execution_count": 19,
   "metadata": {},
   "outputs": [
    {
     "data": {
      "text/html": [
       "<div>\n",
       "<style scoped>\n",
       "    .dataframe tbody tr th:only-of-type {\n",
       "        vertical-align: middle;\n",
       "    }\n",
       "\n",
       "    .dataframe tbody tr th {\n",
       "        vertical-align: top;\n",
       "    }\n",
       "\n",
       "    .dataframe thead th {\n",
       "        text-align: right;\n",
       "    }\n",
       "</style>\n",
       "<table border=\"1\" class=\"dataframe\">\n",
       "  <thead>\n",
       "    <tr style=\"text-align: right;\">\n",
       "      <th></th>\n",
       "      <th>empresa</th>\n",
       "      <th>vl_mercado_empresa</th>\n",
       "      <th>volume_dados</th>\n",
       "    </tr>\n",
       "  </thead>\n",
       "  <tbody>\n",
       "    <tr>\n",
       "      <th>0</th>\n",
       "      <td>ALUP</td>\n",
       "      <td>8.987333e+09</td>\n",
       "      <td>2754</td>\n",
       "    </tr>\n",
       "    <tr>\n",
       "      <th>1</th>\n",
       "      <td>CMIG</td>\n",
       "      <td>2.285023e+10</td>\n",
       "      <td>5818</td>\n",
       "    </tr>\n",
       "    <tr>\n",
       "      <th>2</th>\n",
       "      <td>COCE</td>\n",
       "      <td>2.590236e+09</td>\n",
       "      <td>6068</td>\n",
       "    </tr>\n",
       "    <tr>\n",
       "      <th>3</th>\n",
       "      <td>CPFE</td>\n",
       "      <td>4.039803e+10</td>\n",
       "      <td>5062</td>\n",
       "    </tr>\n",
       "    <tr>\n",
       "      <th>4</th>\n",
       "      <td>EGIE</td>\n",
       "      <td>3.572133e+10</td>\n",
       "      <td>5528</td>\n",
       "    </tr>\n",
       "    <tr>\n",
       "      <th>5</th>\n",
       "      <td>EQTL</td>\n",
       "      <td>3.458531e+10</td>\n",
       "      <td>4004</td>\n",
       "    </tr>\n",
       "    <tr>\n",
       "      <th>6</th>\n",
       "      <td>NEOE</td>\n",
       "      <td>2.375896e+10</td>\n",
       "      <td>1223</td>\n",
       "    </tr>\n",
       "    <tr>\n",
       "      <th>7</th>\n",
       "      <td>TAEE</td>\n",
       "      <td>1.216081e+10</td>\n",
       "      <td>3075</td>\n",
       "    </tr>\n",
       "  </tbody>\n",
       "</table>\n",
       "</div>"
      ],
      "text/plain": [
       "  empresa  vl_mercado_empresa  volume_dados\n",
       "0    ALUP        8.987333e+09          2754\n",
       "1    CMIG        2.285023e+10          5818\n",
       "2    COCE        2.590236e+09          6068\n",
       "3    CPFE        4.039803e+10          5062\n",
       "4    EGIE        3.572133e+10          5528\n",
       "5    EQTL        3.458531e+10          4004\n",
       "6    NEOE        2.375896e+10          1223\n",
       "7    TAEE        1.216081e+10          3075"
      ]
     },
     "execution_count": 19,
     "metadata": {},
     "output_type": "execute_result"
    }
   ],
   "source": [
    "df_medias = df.groupby('empresa').agg(\n",
    "    qt_negociacoes=('qt_negociacoes', 'mean'),\n",
    "    volume_dados=('empresa', 'size'),\n",
    "    roe=('roe', 'mean'),\n",
    "    roic=('roic', 'mean'),\n",
    "    lpa=('lpa', 'mean'),\n",
    "    pl=('pl', 'mean'),\n",
    "    pvp=('pvp', 'mean'),\n",
    "    pc_margem_bruta=('pc_margem_bruta', 'mean'),\n",
    "    pc_margem_liquida=('pc_margem_liquida', 'mean'),\n",
    "    ebitda=('ebitda', 'mean'),\n",
    "    p_ebit=('p_ebit', 'mean'),\n",
    "    p_ebitda=('p_ebitda', 'mean'),\n",
    "    dy=('dy', 'mean'),\n",
    "    payout=('payout', 'mean')\n",
    ").reset_index()\n",
    "\n",
    "criteria = (\n",
    "    # (df_medias['volume_dados'] > media_volume) &\n",
    "    # (df_medias['qt_negociacoes'] > media_negociacoes) &\n",
    "    (df_medias['roe'] > df_medias['roe'].mean()) &\n",
    "    (df_medias['roic'] > df_medias['roic'].mean()) \n",
    "    # (df_medias['lpa'] > df_medias['lpa'].mean()) &\n",
    "    # & (df_medias['pl'] > df_medias['pl'].mean())\n",
    "    # (df_medias['pvp'] >= 1)\n",
    "    # (df_medias['pc_margem_bruta'] > df_medias['pc_margem_bruta'].mean()) &\n",
    "    # (df_medias['pc_margem_liquida'] > df_medias['pc_margem_liquida'].mean()) &\n",
    "    # (df_medias['ebitda'] > df_medias['ebitda'].mean()) &\n",
    "    # (df_medias['p_ebit'] > 0) &\n",
    "    # (df_medias['p_ebitda'] > 0) &\n",
    "    # (df_medias['dy'] > df_medias['dy'].mean()) &\n",
    "    # (df_medias['payout'] > 0)\n",
    ")\n",
    "\n",
    "df_filtrado = pd.DataFrame(df[df['empresa'].isin(df_medias[criteria].sort_values(by=['qt_negociacoes', 'volume_dados'], ascending=[False, False])['empresa'])]['empresa'].unique())\n",
    "df_filtrado = df[df['empresa'].isin(df_filtrado[0])]\n",
    "df_filtrado = df_filtrado.drop_duplicates(['empresa', 'vl_mercado_empresa'])[['empresa', 'vl_mercado_empresa']]\n",
    "df_filtrado = df_filtrado.merge(df_medias[['empresa', 'volume_dados']], on='empresa', how='left')\n",
    "df_filtrado\n",
    "# df_medias"
   ]
  },
  {
   "cell_type": "code",
   "execution_count": 20,
   "metadata": {},
   "outputs": [],
   "source": [
    "df_filtrado['vl_mercado_empresa'] = round(df_filtrado['vl_mercado_empresa'] / 10_000_000_000,1)"
   ]
  },
  {
   "cell_type": "code",
   "execution_count": 21,
   "metadata": {},
   "outputs": [],
   "source": [
    "df_filtrado = df_filtrado.sort_values(by=['vl_mercado_empresa', 'volume_dados'], ascending=[False, False])\n",
    "df_filtrado = df_filtrado.iloc[0:5]\n",
    "df_filtrado = df[df['empresa'].isin(df_filtrado['empresa'])]\n"
   ]
  },
  {
   "cell_type": "code",
   "execution_count": null,
   "metadata": {},
   "outputs": [],
   "source": []
  },
  {
   "cell_type": "code",
   "execution_count": 22,
   "metadata": {},
   "outputs": [],
   "source": [
    "df_filtrado[df_filtrado['empresa'] == 'CPFE'].to_csv('../../data/dados_cpfe.csv')\n",
    "df_filtrado[df_filtrado['empresa'] == 'EQTL'].to_csv('../../data/dados_eqtl.csv')\n",
    "df_filtrado[df_filtrado['empresa'] == 'CMIG'].to_csv('../../data/dados_cmig.csv')\n",
    "df_filtrado[df_filtrado['empresa'] == 'NEOE'].to_csv('../../data/dados_neoe.csv')\n",
    "df_filtrado[df_filtrado['empresa'] == 'EGIE'].to_csv('../../data/dados_egie.csv')\n",
    "\n",
    "empresas = pd.DataFrame({ 'empresa': ['CPFE','EQTL','CMIG','NEOE','EGIE']})\n",
    "df_filtrado[df_filtrado['empresa'].isin(empresas['empresa'])].to_csv('../../data/dados_unificados_filtrado.csv')"
   ]
  },
  {
   "cell_type": "code",
   "execution_count": null,
   "metadata": {},
   "outputs": [],
   "source": []
  }
 ],
 "metadata": {
  "kernelspec": {
   "display_name": "Python 3",
   "language": "python",
   "name": "python3"
  },
  "language_info": {
   "codemirror_mode": {
    "name": "ipython",
    "version": 3
   },
   "file_extension": ".py",
   "mimetype": "text/x-python",
   "name": "python",
   "nbconvert_exporter": "python",
   "pygments_lexer": "ipython3",
   "version": "3.10.11"
  }
 },
 "nbformat": 4,
 "nbformat_minor": 2
}
