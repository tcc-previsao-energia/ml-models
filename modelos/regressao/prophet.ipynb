{
 "cells": [
  {
   "cell_type": "code",
   "execution_count": 4,
   "metadata": {},
   "outputs": [],
   "source": [
    "from sklearn.metrics import r2_score\n",
    "from sklearn.model_selection import GridSearchCV\n",
    "from sklearn.neural_network import MLPRegressor\n",
    "from sklearn.preprocessing import MinMaxScaler\n",
    "from sklearn import datasets, linear_model\n",
    "import matplotlib.pyplot as plt\n",
    "from datetime import datetime\n",
    "import yfinance as yf\n",
    "import pandas as pd\n",
    "import numpy as np\n",
    "\n",
    "SEED = 42\n",
    "np.random.seed(SEED)\n",
    "scaler = MinMaxScaler()\n",
    "EMPRESA = 'EGIE3.SA'"
   ]
  },
  {
   "cell_type": "code",
   "execution_count": 48,
   "metadata": {},
   "outputs": [],
   "source": [
    "from prophet import Prophet\n",
    "\n",
    "def perform_prophet(df, df_teste):\n",
    "    # Prepare the training data\n",
    "    # print(f'{X_train = }')\n",
    "    # print(f'{y_train = }')\n",
    "    # train_data = pd.DataFrame({'ds': y_train.index, 'y': y_train.values})\n",
    "\n",
    "    # Initialize and fit the Prophet model\n",
    "    model = Prophet()\n",
    "    model.fit(df)\n",
    "\n",
    "    # Make predictions\n",
    "    forecast = model.predict(df_teste)\n",
    "\n",
    "    cd_lr = r2_score(df_teste['y'], forecast['yhat'].values)\n",
    "    return (model, cd_lr)\n",
    "    # # Return the predicted values\n",
    "    # return forecast['yhat'].values"
   ]
  },
  {
   "cell_type": "code",
   "execution_count": 6,
   "metadata": {},
   "outputs": [],
   "source": [
    "def tratar_dados(df):\n",
    "    # Adicionando Médias Moveis de 5 e 21 dias\n",
    "    df['mm5d'] = df['Close'].rolling(5).mean()\n",
    "    df['mm21d'] = df['Close'].rolling(21).mean()\n",
    "    df['Close'] = df['Close'].shift(-1)\n",
    "\n",
    "    df.drop(columns=['Dividends','Stock Splits'], inplace=True)\n",
    "    df.dropna(inplace=True)\n",
    "\n",
    "    X = scaler.fit_transform(df.drop(columns=['Close']))\n",
    "    y = df['Close']\n",
    "    return df, X, y"
   ]
  },
  {
   "cell_type": "code",
   "execution_count": 7,
   "metadata": {},
   "outputs": [],
   "source": [
    "def get_dados_empresa(empresa):\n",
    "    dados_empresa = yf.Ticker(empresa).history(period='max')\n",
    "    return tratar_dados(dados_empresa)"
   ]
  },
  {
   "cell_type": "code",
   "execution_count": 8,
   "metadata": {},
   "outputs": [],
   "source": [
    "def split_treino_teste(X, y, qtd_validacao=0):\n",
    "    qtd_linhas = len(X)\n",
    "    qtd_linhas_treino = round(.75 * qtd_linhas)\n",
    "    qtd_linhas_teste = qtd_linhas - qtd_validacao\n",
    "\n",
    "    X_train = X[:qtd_linhas_treino]\n",
    "    y_train = y[:qtd_linhas_treino]\n",
    "\n",
    "    X_test = X[qtd_linhas_treino:qtd_linhas_teste]\n",
    "    y_test = y[qtd_linhas_treino:qtd_linhas_teste]\n",
    "\n",
    "    X_valid = X[qtd_linhas_teste:]\n",
    "    y_valid = y[qtd_linhas_teste:]\n",
    "\n",
    "    return (X_train, y_train, X_test, y_test, X_valid, y_valid)"
   ]
  },
  {
   "cell_type": "code",
   "execution_count": 9,
   "metadata": {},
   "outputs": [],
   "source": [
    "def split_dados_empresa(empresa, qtd_validacao=0):\n",
    "    dados, X, y = get_dados_empresa(empresa)\n",
    "    X_train, y_train, X_test, y_test, X_valid, y_valid = split_treino_teste(X, y, qtd_validacao=qtd_validacao)\n",
    "    return dados, X_train, y_train, X_test, y_test, X_valid, y_valid"
   ]
  },
  {
   "cell_type": "code",
   "execution_count": 55,
   "metadata": {},
   "outputs": [],
   "source": [
    "def criar_treinar_modelo(empresa = None, X_train = None, y_train = None, X_test = None, y_test = None, X_valid = None, y_valid = None, modelo = None):\n",
    "    if (X_train == None or y_train == None or X_test == None or y_test == None or X_valid == None or y_valid == None) and empresa == None:\n",
    "        raise Exception(\"Deve-se passar algum parâmetro\")\n",
    "\n",
    "    if empresa != None:\n",
    "        (_, X_train, y_train, X_test, y_test, X_valid, y_valid) = split_dados_empresa(empresa)\n",
    "\n",
    "    df = pd.DataFrame({'ds': [pd.to_datetime(y).tz_localize(None) for y in y_train.index], 'y': y_train.values})\n",
    "    df_teste = pd.DataFrame({'ds': [pd.to_datetime(y).tz_localize(None) for y in y_test.index], 'y': y_test.values})\n",
    "\n",
    "    (lr, cd_lr) = perform_prophet(df, df_teste)\n",
    "    # (nn, cd_nn) = perform_neural_network(X_train, y_train, X_test, y_test)\n",
    "    print(f'{cd_lr = }')\n",
    "    return lr\n"
   ]
  },
  {
   "cell_type": "code",
   "execution_count": 46,
   "metadata": {},
   "outputs": [],
   "source": [
    "\n",
    "df_teste = pd.DataFrame({'ds': [pd.to_datetime(y).tz_localize(None) for y in y_test.index], 'y': y_test.values})"
   ]
  },
  {
   "cell_type": "code",
   "execution_count": 47,
   "metadata": {},
   "outputs": [
    {
     "data": {
      "text/plain": [
       "array([[Timestamp('2018-12-05 00:00:00'), 25.19394302368164],\n",
       "       [Timestamp('2018-12-06 00:00:00'), 25.341915130615234],\n",
       "       [Timestamp('2018-12-07 00:00:00'), 25.068744659423828],\n",
       "       ...,\n",
       "       [Timestamp('2024-06-25 00:00:00'), 44.29999923706055],\n",
       "       [Timestamp('2024-06-26 00:00:00'), 44.400001525878906],\n",
       "       [Timestamp('2024-06-27 00:00:00'), 44.290000915527344]],\n",
       "      dtype=object)"
      ]
     },
     "execution_count": 47,
     "metadata": {},
     "output_type": "execute_result"
    }
   ],
   "source": [
    "df_teste"
   ]
  },
  {
   "cell_type": "code",
   "execution_count": 53,
   "metadata": {},
   "outputs": [],
   "source": [
    "def prever_proximo_dia(modelo, empresa):\n",
    "    dados = yf.Ticker(empresa).history(period='max')\n",
    "    dados, X, y = tratar_dados(dados)\n",
    "    dados = pd.DataFrame(X).tail(1)\n",
    "    dados = dados.rename(columns={0: 'Open', 1: 'High', 2: 'Low', 3: 'Close', 4: 'Volume', 5: 'mm5d', 6: 'mm21d'})\n",
    "    dados['ds'] = [pd.to_datetime('2024-07-19').tz_localize(None)]\n",
    "    display(dados)\n",
    "    return modelo.predict(dados)"
   ]
  },
  {
   "cell_type": "code",
   "execution_count": 56,
   "metadata": {},
   "outputs": [
    {
     "name": "stderr",
     "output_type": "stream",
     "text": [
      "17:14:49 - cmdstanpy - INFO - Chain [1] start processing\n",
      "17:14:51 - cmdstanpy - INFO - Chain [1] done processing\n"
     ]
    },
    {
     "name": "stdout",
     "output_type": "stream",
     "text": [
      "cd_lr = -6.1731176123851075\n"
     ]
    }
   ],
   "source": [
    "(dados, X_train, y_train, X_test, y_test, X_valid, y_valid) = split_dados_empresa(EMPRESA,qtd_validacao=15)\n",
    "modelo = criar_treinar_modelo(EMPRESA)"
   ]
  },
  {
   "cell_type": "code",
   "execution_count": 57,
   "metadata": {},
   "outputs": [
    {
     "data": {
      "text/html": [
       "<div>\n",
       "<style scoped>\n",
       "    .dataframe tbody tr th:only-of-type {\n",
       "        vertical-align: middle;\n",
       "    }\n",
       "\n",
       "    .dataframe tbody tr th {\n",
       "        vertical-align: top;\n",
       "    }\n",
       "\n",
       "    .dataframe thead th {\n",
       "        text-align: right;\n",
       "    }\n",
       "</style>\n",
       "<table border=\"1\" class=\"dataframe\">\n",
       "  <thead>\n",
       "    <tr style=\"text-align: right;\">\n",
       "      <th></th>\n",
       "      <th>Open</th>\n",
       "      <th>High</th>\n",
       "      <th>Low</th>\n",
       "      <th>Close</th>\n",
       "      <th>Volume</th>\n",
       "      <th>mm5d</th>\n",
       "      <th>ds</th>\n",
       "    </tr>\n",
       "  </thead>\n",
       "  <tbody>\n",
       "    <tr>\n",
       "      <th>5579</th>\n",
       "      <td>1.0</td>\n",
       "      <td>0.99869</td>\n",
       "      <td>0.993616</td>\n",
       "      <td>0.025489</td>\n",
       "      <td>1.0</td>\n",
       "      <td>1.0</td>\n",
       "      <td>2024-07-19</td>\n",
       "    </tr>\n",
       "  </tbody>\n",
       "</table>\n",
       "</div>"
      ],
      "text/plain": [
       "      Open     High       Low     Close  Volume  mm5d         ds\n",
       "5579   1.0  0.99869  0.993616  0.025489     1.0   1.0 2024-07-19"
      ]
     },
     "metadata": {},
     "output_type": "display_data"
    },
    {
     "data": {
      "text/html": [
       "<div>\n",
       "<style scoped>\n",
       "    .dataframe tbody tr th:only-of-type {\n",
       "        vertical-align: middle;\n",
       "    }\n",
       "\n",
       "    .dataframe tbody tr th {\n",
       "        vertical-align: top;\n",
       "    }\n",
       "\n",
       "    .dataframe thead th {\n",
       "        text-align: right;\n",
       "    }\n",
       "</style>\n",
       "<table border=\"1\" class=\"dataframe\">\n",
       "  <thead>\n",
       "    <tr style=\"text-align: right;\">\n",
       "      <th></th>\n",
       "      <th>ds</th>\n",
       "      <th>trend</th>\n",
       "      <th>yhat_lower</th>\n",
       "      <th>yhat_upper</th>\n",
       "      <th>trend_lower</th>\n",
       "      <th>trend_upper</th>\n",
       "      <th>additive_terms</th>\n",
       "      <th>additive_terms_lower</th>\n",
       "      <th>additive_terms_upper</th>\n",
       "      <th>weekly</th>\n",
       "      <th>weekly_lower</th>\n",
       "      <th>weekly_upper</th>\n",
       "      <th>yearly</th>\n",
       "      <th>yearly_lower</th>\n",
       "      <th>yearly_upper</th>\n",
       "      <th>multiplicative_terms</th>\n",
       "      <th>multiplicative_terms_lower</th>\n",
       "      <th>multiplicative_terms_upper</th>\n",
       "      <th>yhat</th>\n",
       "    </tr>\n",
       "  </thead>\n",
       "  <tbody>\n",
       "    <tr>\n",
       "      <th>0</th>\n",
       "      <td>2024-07-19</td>\n",
       "      <td>28.772767</td>\n",
       "      <td>28.018393</td>\n",
       "      <td>29.684418</td>\n",
       "      <td>28.772767</td>\n",
       "      <td>28.772767</td>\n",
       "      <td>0.09651</td>\n",
       "      <td>0.09651</td>\n",
       "      <td>0.09651</td>\n",
       "      <td>-0.056294</td>\n",
       "      <td>-0.056294</td>\n",
       "      <td>-0.056294</td>\n",
       "      <td>0.152805</td>\n",
       "      <td>0.152805</td>\n",
       "      <td>0.152805</td>\n",
       "      <td>0.0</td>\n",
       "      <td>0.0</td>\n",
       "      <td>0.0</td>\n",
       "      <td>28.869278</td>\n",
       "    </tr>\n",
       "  </tbody>\n",
       "</table>\n",
       "</div>"
      ],
      "text/plain": [
       "          ds      trend  yhat_lower  yhat_upper  trend_lower  trend_upper  \\\n",
       "0 2024-07-19  28.772767   28.018393   29.684418    28.772767    28.772767   \n",
       "\n",
       "   additive_terms  additive_terms_lower  additive_terms_upper    weekly  \\\n",
       "0         0.09651               0.09651               0.09651 -0.056294   \n",
       "\n",
       "   weekly_lower  weekly_upper    yearly  yearly_lower  yearly_upper  \\\n",
       "0     -0.056294     -0.056294  0.152805      0.152805      0.152805   \n",
       "\n",
       "   multiplicative_terms  multiplicative_terms_lower  \\\n",
       "0                   0.0                         0.0   \n",
       "\n",
       "   multiplicative_terms_upper       yhat  \n",
       "0                         0.0  28.869278  "
      ]
     },
     "execution_count": 57,
     "metadata": {},
     "output_type": "execute_result"
    }
   ],
   "source": [
    "\n",
    "prever_proximo_dia(modelo, EMPRESA)"
   ]
  },
  {
   "cell_type": "code",
   "execution_count": 31,
   "metadata": {},
   "outputs": [
    {
     "data": {
      "text/plain": [
       "Timestamp('2002-03-29 00:00:00-0300', tz='America/Sao_Paulo')"
      ]
     },
     "execution_count": 31,
     "metadata": {},
     "output_type": "execute_result"
    }
   ],
   "source": [
    "y_train.index[0]"
   ]
  },
  {
   "cell_type": "code",
   "execution_count": 33,
   "metadata": {},
   "outputs": [],
   "source": [
    "df = pd.DataFrame({'ds': [pd.to_datetime(y).tz_localize(None) for y in y_train.index], 'y': y_train.values})"
   ]
  },
  {
   "cell_type": "code",
   "execution_count": 34,
   "metadata": {},
   "outputs": [
    {
     "data": {
      "text/html": [
       "<div>\n",
       "<style scoped>\n",
       "    .dataframe tbody tr th:only-of-type {\n",
       "        vertical-align: middle;\n",
       "    }\n",
       "\n",
       "    .dataframe tbody tr th {\n",
       "        vertical-align: top;\n",
       "    }\n",
       "\n",
       "    .dataframe thead th {\n",
       "        text-align: right;\n",
       "    }\n",
       "</style>\n",
       "<table border=\"1\" class=\"dataframe\">\n",
       "  <thead>\n",
       "    <tr style=\"text-align: right;\">\n",
       "      <th></th>\n",
       "      <th>ds</th>\n",
       "      <th>y</th>\n",
       "    </tr>\n",
       "  </thead>\n",
       "  <tbody>\n",
       "    <tr>\n",
       "      <th>0</th>\n",
       "      <td>2002-03-29</td>\n",
       "      <td>1.425817</td>\n",
       "    </tr>\n",
       "    <tr>\n",
       "      <th>1</th>\n",
       "      <td>2002-04-01</td>\n",
       "      <td>1.349091</td>\n",
       "    </tr>\n",
       "    <tr>\n",
       "      <th>2</th>\n",
       "      <td>2002-04-02</td>\n",
       "      <td>1.310729</td>\n",
       "    </tr>\n",
       "    <tr>\n",
       "      <th>3</th>\n",
       "      <td>2002-04-03</td>\n",
       "      <td>1.368273</td>\n",
       "    </tr>\n",
       "    <tr>\n",
       "      <th>4</th>\n",
       "      <td>2002-04-04</td>\n",
       "      <td>1.390651</td>\n",
       "    </tr>\n",
       "    <tr>\n",
       "      <th>...</th>\n",
       "      <td>...</td>\n",
       "      <td>...</td>\n",
       "    </tr>\n",
       "    <tr>\n",
       "      <th>4180</th>\n",
       "      <td>2018-11-28</td>\n",
       "      <td>24.954931</td>\n",
       "    </tr>\n",
       "    <tr>\n",
       "      <th>4181</th>\n",
       "      <td>2018-11-29</td>\n",
       "      <td>24.476883</td>\n",
       "    </tr>\n",
       "    <tr>\n",
       "      <th>4182</th>\n",
       "      <td>2018-11-30</td>\n",
       "      <td>24.641924</td>\n",
       "    </tr>\n",
       "    <tr>\n",
       "      <th>4183</th>\n",
       "      <td>2018-12-03</td>\n",
       "      <td>24.755741</td>\n",
       "    </tr>\n",
       "    <tr>\n",
       "      <th>4184</th>\n",
       "      <td>2018-12-04</td>\n",
       "      <td>25.080128</td>\n",
       "    </tr>\n",
       "  </tbody>\n",
       "</table>\n",
       "<p>4185 rows × 2 columns</p>\n",
       "</div>"
      ],
      "text/plain": [
       "             ds          y\n",
       "0    2002-03-29   1.425817\n",
       "1    2002-04-01   1.349091\n",
       "2    2002-04-02   1.310729\n",
       "3    2002-04-03   1.368273\n",
       "4    2002-04-04   1.390651\n",
       "...         ...        ...\n",
       "4180 2018-11-28  24.954931\n",
       "4181 2018-11-29  24.476883\n",
       "4182 2018-11-30  24.641924\n",
       "4183 2018-12-03  24.755741\n",
       "4184 2018-12-04  25.080128\n",
       "\n",
       "[4185 rows x 2 columns]"
      ]
     },
     "execution_count": 34,
     "metadata": {},
     "output_type": "execute_result"
    }
   ],
   "source": [
    "df"
   ]
  },
  {
   "cell_type": "code",
   "execution_count": null,
   "metadata": {},
   "outputs": [],
   "source": [
    "y_pred = modelo.predict(X_valid)\n",
    "# y_valid\n",
    "\n",
    "# datas = y_valid.index\n",
    "y_valid.reset_index(drop=True, inplace=True)\n",
    "\n",
    "\n",
    "colunas = {\n",
    "    'data': datas,\n",
    "    'real': y_valid,\n",
    "    'predicao': y_pred\n",
    "}\n",
    "\n",
    "colunas['real']\n",
    "# plt.plot(colunas.items)"
   ]
  },
  {
   "cell_type": "code",
   "execution_count": null,
   "metadata": {},
   "outputs": [],
   "source": [
    "colunas = {\n",
    "    'data': datas,\n",
    "    'real': y_valid,\n",
    "    'predicao': y_pred\n",
    "}\n",
    "\n",
    "plt.plot(colunas['data'], colunas['real'].shift(1), marker='o', label='real')\n",
    "plt.plot(colunas['data'], colunas['predicao'], marker='o', label='predicao')\n",
    "plt.legend()"
   ]
  },
  {
   "cell_type": "code",
   "execution_count": null,
   "metadata": {},
   "outputs": [],
   "source": [
    "prever_proximo_dia(modelo, EMPRESA)"
   ]
  }
 ],
 "metadata": {
  "kernelspec": {
   "display_name": "Python 3",
   "language": "python",
   "name": "python3"
  },
  "language_info": {
   "codemirror_mode": {
    "name": "ipython",
    "version": 3
   },
   "file_extension": ".py",
   "mimetype": "text/x-python",
   "name": "python",
   "nbconvert_exporter": "python",
   "pygments_lexer": "ipython3",
   "version": "3.9.2"
  }
 },
 "nbformat": 4,
 "nbformat_minor": 2
}
