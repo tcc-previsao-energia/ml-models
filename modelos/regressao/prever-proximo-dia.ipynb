{
 "cells": [
  {
   "cell_type": "code",
   "execution_count": 8,
   "metadata": {},
   "outputs": [],
   "source": [
    "from sklearn.metrics import r2_score\n",
    "from sklearn.model_selection import GridSearchCV\n",
    "from sklearn.neural_network import MLPRegressor\n",
    "from sklearn.preprocessing import MinMaxScaler\n",
    "from sklearn import datasets, linear_model\n",
    "import matplotlib.pyplot as plt\n",
    "from datetime import datetime\n",
    "import yfinance as yf\n",
    "import pandas as pd\n",
    "import numpy as np\n",
    "\n",
    "SEED = 42\n",
    "np.random.seed(SEED)\n",
    "scaler = MinMaxScaler()\n",
    "EMPRESA = 'EGIE3.SA'"
   ]
  },
  {
   "cell_type": "code",
   "execution_count": 9,
   "metadata": {},
   "outputs": [],
   "source": [
    "def perform_linear_regression(X_train, y_train, X_test, y_test):\n",
    "    lr = linear_model.LinearRegression()\n",
    "    lr.fit(X_train, y_train)\n",
    "    pred = lr.predict(X_test)\n",
    "    cd_lr = r2_score(y_test, pred)\n",
    "    return (lr, cd_lr)"
   ]
  },
  {
   "cell_type": "code",
   "execution_count": 10,
   "metadata": {},
   "outputs": [],
   "source": [
    "def perform_neural_network(X_train, y_train, X_test, y_test):\n",
    "    rn = MLPRegressor()\n",
    "    parameter_space = {\n",
    "            'hidden_layer_sizes': [(i,) for i in list(range(1, 21))],\n",
    "            'activation': ['tanh', 'relu'],\n",
    "            'solver': ['sgd', 'adam', 'lbfgs'], \n",
    "            'alpha': [0.0001, 0.05],\n",
    "            'learning_rate': ['constant', 'adaptive'],\n",
    "        }\n",
    "\n",
    "    search = GridSearchCV(rn, parameter_space, n_jobs=-1, cv=5)\n",
    "\n",
    "    search.fit(X_train, y_train)\n",
    "    clf = search.best_estimator_\n",
    "    cd_nn = search.score(X_test, y_test)\n",
    "    return (clf, cd_nn)"
   ]
  },
  {
   "cell_type": "code",
   "execution_count": 11,
   "metadata": {},
   "outputs": [],
   "source": [
    "def tratar_dados(df):\n",
    "    # Adicionando Médias Moveis de 5 e 21 dias\n",
    "    df['mm5d'] = df['Close'].rolling(5).mean()\n",
    "    df['mm21d'] = df['Close'].rolling(21).mean()\n",
    "    df['Close'] = df['Close'].shift(-1)\n",
    "\n",
    "    df.drop(columns=['Dividends','Stock Splits'], inplace=True)\n",
    "    df.dropna(inplace=True)\n",
    "\n",
    "    X = scaler.fit_transform(df.drop(columns=['Close']))\n",
    "    y = df['Close']\n",
    "    return df, X, y"
   ]
  },
  {
   "cell_type": "code",
   "execution_count": 12,
   "metadata": {},
   "outputs": [],
   "source": [
    "def get_dados_empresa(empresa):\n",
    "    dados_empresa = yf.Ticker(empresa).history(period='max')\n",
    "    return tratar_dados(dados_empresa)"
   ]
  },
  {
   "cell_type": "code",
   "execution_count": 13,
   "metadata": {},
   "outputs": [],
   "source": [
    "def split_treino_teste(X, y, qtd_validacao=0):\n",
    "    qtd_linhas = len(X)\n",
    "    qtd_linhas_treino = round(.75 * qtd_linhas)\n",
    "    qtd_linhas_teste = qtd_linhas - qtd_validacao\n",
    "\n",
    "    X_train = X[:qtd_linhas_treino]\n",
    "    y_train = y[:qtd_linhas_treino]\n",
    "\n",
    "    X_test = X[qtd_linhas_treino:qtd_linhas_teste]\n",
    "    y_test = y[qtd_linhas_treino:qtd_linhas_teste]\n",
    "\n",
    "    X_valid = X[qtd_linhas_teste:]\n",
    "    y_valid = y[qtd_linhas_teste:]\n",
    "\n",
    "    return (X_train, y_train, X_test, y_test, X_valid, y_valid)"
   ]
  },
  {
   "cell_type": "code",
   "execution_count": 14,
   "metadata": {},
   "outputs": [],
   "source": [
    "def split_dados_empresa(empresa, qtd_validacao=0):\n",
    "    dados, X, y = get_dados_empresa(empresa)\n",
    "    X_train, y_train, X_test, y_test, X_valid, y_valid = split_treino_teste(X, y, qtd_validacao=qtd_validacao)\n",
    "    return dados, X_train, y_train, X_test, y_test, X_valid, y_valid"
   ]
  },
  {
   "cell_type": "code",
   "execution_count": 15,
   "metadata": {},
   "outputs": [],
   "source": [
    "def criar_treinar_modelo(empresa = None, X_train = None, y_train = None, X_test = None, y_test = None, X_valid = None, y_valid = None, modelo = None):\n",
    "    if (X_train == None or y_train == None or X_test == None or y_test == None or X_valid == None or y_valid == None) and empresa == None:\n",
    "        raise Exception(\"Deve-se passar algum parâmetro\")\n",
    "    \n",
    "    if empresa != None:\n",
    "        (_, X_train, y_train, X_test, y_test, X_valid, y_valid) = split_dados_empresa(empresa)\n",
    "\n",
    "    (lr, cd_lr) = perform_linear_regression(X_train, y_train, X_test, y_test)\n",
    "    (nn, cd_nn) = perform_neural_network(X_train, y_train, X_test, y_test)\n",
    "    \n",
    "    return lr if cd_lr >= cd_nn else nn\n",
    " "
   ]
  },
  {
   "cell_type": "code",
   "execution_count": 16,
   "metadata": {},
   "outputs": [],
   "source": [
    "def prever_proximo_dia(modelo, empresa):\n",
    "    dados = yf.Ticker(empresa).history(period='max')\n",
    "    dados, X, y = tratar_dados(dados)\n",
    "    dados = pd.DataFrame(X).tail(1)\n",
    "    return modelo.predict(dados)    "
   ]
  },
  {
   "cell_type": "code",
   "execution_count": 71,
   "metadata": {},
   "outputs": [
    {
     "data": {
      "text/plain": [
       "array([46.21699075])"
      ]
     },
     "execution_count": 71,
     "metadata": {},
     "output_type": "execute_result"
    }
   ],
   "source": [
    "(dados, X_train, y_train, X_test, y_test, X_valid, y_valid) = split_dados_empresa(EMPRESA,qtd_validacao=15)\n",
    "modelo = criar_treinar_modelo(EMPRESA)\n",
    "prever_proximo_dia(modelo, EMPRESA)"
   ]
  },
  {
   "cell_type": "code",
   "execution_count": 75,
   "metadata": {},
   "outputs": [
    {
     "data": {
      "text/plain": [
       "0     44.450001\n",
       "1     44.340000\n",
       "2     45.119999\n",
       "3     45.369999\n",
       "4     45.250000\n",
       "5     45.610001\n",
       "6     45.770000\n",
       "7     45.779999\n",
       "8     45.959999\n",
       "9     46.610001\n",
       "10    46.349998\n",
       "11    46.450001\n",
       "12    46.529999\n",
       "13    46.070000\n",
       "14    45.599998\n",
       "Name: Close, dtype: float64"
      ]
     },
     "execution_count": 75,
     "metadata": {},
     "output_type": "execute_result"
    }
   ],
   "source": [
    "y_pred = modelo.predict(X_valid)\n",
    "# y_valid\n",
    "\n",
    "datas = list(y_valid.index)\n",
    "y_valid.reset_index(drop=True, inplace=True)\n",
    "\n",
    "colunas = {\n",
    "    'data': datas,\n",
    "    'real': y_valid,\n",
    "    'predicao': y_pred\n",
    "}\n",
    "\n",
    "plt.plot(colunas['data'], colunas['real'].shift(1), marker='o', label='real')\n",
    "plt.plot(colunas['data'], colunas['predicao'], marker='o', label='predicao')\n",
    "plt.legend()"
   ]
  },
  {
   "cell_type": "code",
   "execution_count": 89,
   "metadata": {},
   "outputs": [
    {
     "data": {
      "text/plain": [
       "<matplotlib.legend.Legend at 0x13f62add120>"
      ]
     },
     "execution_count": 89,
     "metadata": {},
     "output_type": "execute_result"
    },
    {
     "data": {
      "image/png": "[encoded data removed]",
      "text/plain": [
       "<Figure size 640x480 with 1 Axes>"
      ]
     },
     "metadata": {},
     "output_type": "display_data"
    }
   ],
   "source": []
  },
  {
   "cell_type": "code",
   "execution_count": 18,
   "metadata": {},
   "outputs": [
    {
     "data": {
      "text/plain": [
       "array([46.21699075])"
      ]
     },
     "execution_count": 18,
     "metadata": {},
     "output_type": "execute_result"
    }
   ],
   "source": [
    "prever_proximo_dia(modelo, EMPRESA)"
   ]
  }
 ],
 "metadata": {
  "kernelspec": {
   "display_name": "Python 3",
   "language": "python",
   "name": "python3"
  },
  "language_info": {
   "codemirror_mode": {
    "name": "ipython",
    "version": 3
   },
   "file_extension": ".py",
   "mimetype": "text/x-python",
   "name": "python",
   "nbconvert_exporter": "python",
   "pygments_lexer": "ipython3",
   "version": "3.10.11"
  }
 },
 "nbformat": 4,
 "nbformat_minor": 2
}
