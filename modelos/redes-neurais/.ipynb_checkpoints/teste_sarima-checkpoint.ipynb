{
 "cells": [
  {
   "cell_type": "code",
   "execution_count": null,
   "id": "66d367a7-3cc2-44a8-b583-abc5ab1fa30b",
   "metadata": {},
   "outputs": [],
   "source": [
    "import pandas as pd\n",
    "import numpy as np\n",
    "import yfinance as yf\n",
    "import matplotlib.pyplot as plt\n",
    "\n",
    "from statsmodels.tsa.seasonal import seasonal_decompose\n",
    "from statsmodels.tsa.stattools import adfuller\n",
    "from statsmodels.tsa.statespace.sarimax import SARIMAX\n",
    "from statsmodels.graphics.tsaplots import plot_acf, plot_pacf\n",
    "\n",
    "from keras.models import Sequential\n",
    "from keras.optimizers import Adam\n",
    "from keras import layers\n",
    "\n",
    "\n",
    "\n",
    "\n",
    "np.random.seed = 10"
   ]
  },
  {
   "cell_type": "code",
   "execution_count": null,
   "id": "2634c329-61b0-447c-aaf7-8ecde6a12a3b",
   "metadata": {},
   "outputs": [],
   "source": [
    "EMPRESA = 'ITUB4.SA'\n",
    "\n",
    "def get_data_ticker(ticker, period='5y'):\n",
    "    data_hist = yf.download(ticker, period=period)\n",
    "    data_hist = pd.DataFrame(data_hist['Close'])\n",
    "    data_hist['prev-day-1'] = data_hist['Close'].rolling(5).mean().shift(1)\n",
    "    data_hist['prev-day-2'] = data_hist['Close'].rolling(5).mean().shift(2)\n",
    "    data_hist['prev-day-3'] = data_hist['Close'].rolling(5).mean().shift(3)\n",
    "    data_hist['mm_5'] = data_hist['Close'].rolling(5).mean()\n",
    "    data_hist['mm_21'] = data_hist['Close'].rolling(21).mean()\n",
    "    data_hist = data_hist.dropna()\n",
    "    data_hist['tomorrow'] = data_hist['Close'].rolling(5).mean().shift(-1)\n",
    "    return data_hist\n",
    "\n",
    "df_full = get_data_ticker(EMPRESA, period='5y')\n",
    "df = df_full.dropna()"
   ]
  },
  {
   "cell_type": "code",
   "execution_count": null,
   "id": "46803623-a523-44ba-9984-1e17b74df08a",
   "metadata": {},
   "outputs": [],
   "source": [
    "def split_df_X_y(df_model):\n",
    "    dates = df_model.index\n",
    "    df_as_np = df_model.to_numpy()\n",
    "    X = df_as_np[:,:-1]\n",
    "\n",
    "    X = X.reshape(len(dates), X.shape[1], 1)\n",
    "    y = df_as_np[:,-1]\n",
    "\n",
    "    return (dates, X.astype(np.float32), y.astype(np.float32))\n",
    "\n",
    "dates, X, y = split_df_X_y(df)"
   ]
  },
  {
   "cell_type": "code",
   "execution_count": null,
   "id": "3ebe06b0-db8f-4a79-a1b6-6ea92196b1af",
   "metadata": {},
   "outputs": [],
   "source": [
    "df: pd.DataFrame = get_data_ticker(EMPRESA, period='5y')[['Close']]\n",
    "df = df.asfreq('1d').fillna(0)\n",
    "result = seasonal_decompose(y, period=240, extrapolate_trend='freq')\n",
    "\n",
    "trend = result.trend\n",
    "seasonal = result.seasonal\n",
    "residuo = result.resid\n",
    "\n",
    "print(trend)\n",
    "print(seasonal)\n",
    "print(residuo)\n",
    "print(result.observed)\n",
    "result.plot()\n",
    "plt.show()"
   ]
  },
  {
   "cell_type": "code",
   "execution_count": null,
   "id": "b98df5b3-3037-4a8a-b8f5-5e7a49f8c5b0",
   "metadata": {},
   "outputs": [],
   "source": [
    "def check_stationarity(ts):\n",
    "    dftest = adfuller(ts)\n",
    "    adf = dftest[0]\n",
    "    pvalue = dftest[1]\n",
    "    critical_value = dftest[4]['5%']\n",
    "    if (pvalue < 0.05) and (adf < critical_value):\n",
    "        print('The series is stationary')\n",
    "    else:\n",
    "        print('The series is NOT stationary')"
   ]
  },
  {
   "cell_type": "code",
   "execution_count": null,
   "id": "6006045e-0af6-4523-a1e6-1c95424fe98a",
   "metadata": {},
   "outputs": [],
   "source": [
    "check_stationarity(trend)"
   ]
  },
  {
   "cell_type": "code",
   "execution_count": null,
   "id": "7bb8fa8d-9ca4-4156-9a4d-935b3e28eed8",
   "metadata": {},
   "outputs": [],
   "source": [
    "check_stationarity(seasonal)"
   ]
  },
  {
   "cell_type": "markdown",
   "id": "6b309a3c-6a5c-4fd2-9a70-def744c92458",
   "metadata": {},
   "source": [
    "# Sarima para Sazonalidade\n",
    "\n",
    "O result.seasonal já está estacionário, portanto, podemos fazer a aplicação direta do modelo SARIMA"
   ]
  },
  {
   "cell_type": "code",
   "execution_count": null,
   "id": "cc07f4ef-ab4e-4751-a83a-bc9b139ca1e3",
   "metadata": {},
   "outputs": [],
   "source": [
    "sazonalidade = 12 #Sazonalidade é anual"
   ]
  },
  {
   "cell_type": "code",
   "execution_count": null,
   "id": "818f9dd3-32a3-4d9a-b0e8-64058c4317f6",
   "metadata": {},
   "outputs": [],
   "source": [
    "# Plot ACF e PACF para identificar parâmetros não sazonais\n",
    "plt.figure(figsize=(12, 6))\n",
    "plt.subplot(211)\n",
    "plot_acf(seasonal, ax=plt.gca(), lags=40)\n",
    "plt.subplot(212)\n",
    "plot_pacf(seasonal, ax=plt.gca(), lags=40, method='ywm')\n",
    "plt.show()"
   ]
  },
  {
   "cell_type": "markdown",
   "id": "ef9595ae-cdea-44ff-b6a7-eb08f7a148d1",
   "metadata": {},
   "source": [
    "O fato de termos uma autocorrelaçao (ACF) decrescente e uma autocorrelaçao parcial (PACF) truncada indica que temos um AR, o que quer dizer que um termo pode ser previsto a partir dos últimos p termos e que uma média móvel de q termos não é necessária, ou seja q pode ser assumido com 0 ou 1.\n",
    "\n",
    "No segundo gráfico (PACF) é claro que há o primeiro corte da linha da zona de confiança ocorre após a segunda observação (índice 1), mas como a terceira observaçao é a primeira cortar de baixo para cima podemos dizer que o parâmetro p pode ser 1 ou 2."
   ]
  },
  {
   "cell_type": "code",
   "execution_count": null,
   "id": "04803be5-61b2-4612-819b-43d65c97da4c",
   "metadata": {},
   "outputs": [],
   "source": [
    "# Definir os parâmetros do modelo\n",
    "p, d, q = 1, 0, 0\n",
    "P, D, Q, s = 1, 0, 0, sazonalidade\n",
    "\n",
    "# Ajustar o modelo SARIMA\n",
    "model = SARIMAX(seasonal, \n",
    "                order=(p, d, q), \n",
    "                seasonal_order=(P, D, Q, s),\n",
    "                enforce_stationarity=True,\n",
    "                enforce_invertibility=True)\n",
    "\n",
    "model_fit = model.fit(disp=False)\n",
    "print(model_fit.summary())"
   ]
  },
  {
   "cell_type": "code",
   "execution_count": null,
   "id": "6ecdca17-77d1-4b1e-96bf-1683de2715e3",
   "metadata": {},
   "outputs": [],
   "source": [
    "# Resíduos do modelo\n",
    "residuals = model_fit.resid\n",
    "\n",
    "# Plot dos resíduos\n",
    "plt.figure(figsize=(10, 4))\n",
    "plt.plot(residuals)\n",
    "plt.title('Resíduos do Modelo SARIMA')\n",
    "plt.show()\n",
    "\n",
    "\n",
    "# Teste de Ljung-Box para verificar autocorrelação nos resíduos\n",
    "from statsmodels.stats.diagnostic import acorr_ljungbox\n",
    "\n",
    "lb_test = acorr_ljungbox(residuals, lags=[10], return_df=True)\n",
    "print(lb_test)\n"
   ]
  },
  {
   "cell_type": "code",
   "execution_count": null,
   "id": "5e39fceb-560a-40c9-84b9-928773dc4676",
   "metadata": {},
   "outputs": [],
   "source": [
    "# Número de passos para previsão\n",
    "n_steps = 12  # Por exemplo, 12 meses à frente\n",
    "\n",
    "# Fazer previsão\n",
    "forecast = model_fit.get_forecast(steps=n_steps)\n",
    "forecast_index = pd.date_range(start=seasonal[-1], periods=n_steps+1, freq='M')[1:]\n",
    "forecast_series = pd.Series(forecast.predicted_mean, index=forecast_index)\n",
    "conf_int = forecast.conf_int()\n",
    "\n",
    "# Plotar as previsões\n",
    "plt.figure(figsize=(12, 6))\n",
    "plt.plot(seasonal, label='Histórico')\n",
    "plt.plot(forecast_series, label='Previsão', color='red')\n",
    "plt.fill_between(forecast_index, \n",
    "                 conf_int['lower valor'], \n",
    "                 conf_int['upper valor'], \n",
    "                 color='pink', alpha=0.3)\n",
    "plt.title('Previsão com SARIMA')\n",
    "plt.xlabel('Data')\n",
    "plt.ylabel('Valor')\n",
    "plt.legend()\n",
    "plt.show()"
   ]
  },
  {
   "cell_type": "code",
   "execution_count": null,
   "id": "e2fe7a27-8367-4eb3-96b6-b8986632223e",
   "metadata": {},
   "outputs": [],
   "source": []
  }
 ],
 "metadata": {
  "kernelspec": {
   "display_name": "Python 3 (ipykernel)",
   "language": "python",
   "name": "python3"
  },
  "language_info": {
   "codemirror_mode": {
    "name": "ipython",
    "version": 3
   },
   "file_extension": ".py",
   "mimetype": "text/x-python",
   "name": "python",
   "nbconvert_exporter": "python",
   "pygments_lexer": "ipython3",
   "version": "3.10.12"
  }
 },
 "nbformat": 4,
 "nbformat_minor": 5
}
