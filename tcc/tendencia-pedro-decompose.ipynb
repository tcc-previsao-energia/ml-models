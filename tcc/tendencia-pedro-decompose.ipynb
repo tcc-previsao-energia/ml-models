{
 "cells": [
  {
   "cell_type": "code",
   "execution_count": 584,
   "metadata": {},
   "outputs": [],
   "source": [
    "import matplotlib.pyplot as plt\n",
    "import numpy as np\n",
    "from util.functions import get_data_ticker, dias_uteis_entre_datas, decompor_sinal\n",
    "from statsmodels.tsa.seasonal import seasonal_decompose\n",
    "from statsmodels.graphics.tsaplots import plot_acf\n",
    "from sklearn.ensemble import RandomForestRegressor\n",
    "import util.functions as funcs\n",
    "from sklearn.model_selection import train_test_split\n",
    "import pandas as pd\n",
    "import plotly.express as px\n",
    "from sklearn.metrics import mean_squared_error, mean_absolute_error\n",
    "from sklearn.metrics import r2_score, accuracy_score, precision_score\n",
    "from sklearn.preprocessing import MinMaxScaler\n",
    "\n",
    "import matplotlib.pyplot as plt \n",
    "import numpy as np\n",
    "import pandas as pd\n",
    "import seaborn as sns\n",
    "import plotly.express as px\n",
    "import tensorflow as tf\n",
    "import plotly.graph_objs as go\n",
    "from pandas.tseries.offsets import BDay\n",
    "\n",
    "from sklearn.preprocessing import MinMaxScaler\n",
    "from sklearn.model_selection import train_test_split\n",
    "from sklearn.metrics import mean_squared_error, mean_absolute_error\n",
    "\n",
    "from util.functions import get_data_ticker, decompor_sinal, obter_sazonalidade_periodo\n",
    "from statsmodels.tsa.seasonal import seasonal_decompose\n",
    "from statsmodels.graphics.tsaplots import plot_acf\n",
    "from sklearn.model_selection import train_test_split, GridSearchCV, cross_val_score\n",
    "\n"
   ]
  },
  {
   "cell_type": "code",
   "execution_count": 585,
   "metadata": {},
   "outputs": [],
   "source": [
    "#EMPRESA = 'ELET3.SA'\n",
    "#EMPRESA = 'B3SA3.SA'\n",
    "EMPRESA = 'VALE3.SA'\n",
    "\n",
    "\n",
    "#EMPRESA = 'ITUB4.SA'\n",
    "#EMPRESA = 'PETR4.SA'\n",
    "SEED = 42\n",
    "qtdTreino = .8\n",
    "\n",
    "# features = ['Close', 'prev-day-1', 'prev-day-2', 'prev-day-3', 'mm_5', 'mm_21', 'Close_diff']\n",
    "features = ['Close','Close_diff', 'mm_5', 'mm_21', 'RSI_14']\n",
    "features_trend = ['Close','tomorrow']\n",
    "target = 'tomorrow'\n",
    "\n",
    "n_past = 20\n",
    "days_to_predict = 35\n",
    "# n_features = len(features)\n",
    "\n",
    "np.random.seed(SEED)\n",
    "tf.random.set_seed(SEED)"
   ]
  },
  {
   "cell_type": "markdown",
   "metadata": {},
   "source": [
    "### Funções"
   ]
  },
  {
   "cell_type": "code",
   "execution_count": 586,
   "metadata": {},
   "outputs": [],
   "source": [
    "def create_sequences(data, target, time_steps=1):\n",
    "    X, y = [], []\n",
    "    for i in range(len(data) - time_steps):\n",
    "        X.append(data[i:(i + time_steps)])\n",
    "        y.append(target[i + time_steps])\n",
    "    return np.array(X), np.array(y)"
   ]
  },
  {
   "cell_type": "code",
   "execution_count": 587,
   "metadata": {},
   "outputs": [],
   "source": [
    "def prepare_new_record(df, new_record, date_index, rolling=1):\n",
    "    data_orig = pd.DataFrame({'Close': new_record}, index=[date_index])\n",
    "    data_orig = data_orig.rename_axis('Date')\n",
    "    data_orig = pd.concat([df,data_orig])\n",
    "    data_hist = pd.DataFrame(data_orig['Close'])\n",
    "    data_hist['prev-day-1'] = data_hist['Close'].rolling(rolling).mean().shift(1)\n",
    "    data_hist['prev-day-2'] = data_hist['Close'].rolling(rolling).mean().shift(2)\n",
    "    data_hist['prev-day-3'] = data_hist['Close'].rolling(rolling).mean().shift(3)\n",
    "    data_hist['mm_5'] = data_hist['Close'].rolling(5).mean()\n",
    "    data_hist['mm_21'] = data_hist['Close'].rolling(21).mean()\n",
    "    data_hist['tomorrow'] = data_hist['Close'].rolling(rolling).mean().shift(-1)\n",
    "    data_hist['Close_diff'] = data_hist['Close'].diff(1)\n",
    "    # Ajuste para o último registro\n",
    "    if len(data_hist) > 1:\n",
    "        data_hist.iloc[-1, data_hist.columns.get_loc('Close_diff')] = data_hist['Close'].iloc[-1] - data_hist['Close'].iloc[-2]\n",
    "    else:\n",
    "        data_hist['Close_diff'].iloc[-1] = 0  # Define 0 caso não haja histórico suficiente\n",
    "\n",
    "    data_hist['tomorrow'].fillna(0, inplace = True)\n",
    "    delta = data_hist['Close'].diff(1)\n",
    "    gain = delta.where(delta > 0, 0)  # Ganhos\n",
    "    loss = -delta.where(delta < 0, 0)  # Perdas\n",
    "    avg_gain = gain.rolling(window=14, min_periods=1).mean()  # Média de ganhos\n",
    "    avg_loss = loss.rolling(window=14, min_periods=1).mean()  # Média de perdas\n",
    "    rs = avg_gain / avg_loss  # Cálculo do RS (força relativa)\n",
    "    rsi = 100 - (100 / (1 + rs))  # Cálculo do RSI\n",
    "    data_hist['RSI_14'] = rsi \n",
    "    return data_hist.tail(1)"
   ]
  },
  {
   "cell_type": "code",
   "execution_count": 588,
   "metadata": {},
   "outputs": [],
   "source": [
    "def increment_data_df(df, last_predict, offset=0):\n",
    "   if df.tail(1)['tomorrow'].values[0] == 0:\n",
    "      return df\n",
    "   # dia_util = gerar_dias_uteis(1, offset)[0]\n",
    "   last_date = df.index[-1]\n",
    "   dia_util = pd.date_range(start=last_date + BDay(1), periods=1, freq=BDay())\n",
    "\n",
    "   return pd.concat([df, prepare_new_record(df, last_predict, dia_util[0])])"
   ]
  },
  {
   "cell_type": "code",
   "execution_count": 589,
   "metadata": {},
   "outputs": [],
   "source": [
    "def evaluate_model(y_true, y_pred):\n",
    "    # Calcular as métricas de desempenho\n",
    "    mse = mean_squared_error(y_true, y_pred)\n",
    "    mae = mean_absolute_error(y_true, y_pred)\n",
    "    r2 = r2_score(y_true, y_pred)\n",
    "    rmse = np.sqrt(mse)\n",
    "    \n",
    "    # Criar um dicionário com as métricas\n",
    "    metrics = {\n",
    "        'MSE': mse,\n",
    "        'MAE': mae,\n",
    "        'RMSE': rmse,\n",
    "        'R2': r2\n",
    "    }\n",
    "    \n",
    "    return metrics"
   ]
  },
  {
   "cell_type": "code",
   "execution_count": 590,
   "metadata": {},
   "outputs": [],
   "source": [
    "def aplicar_tendencia_coluna(df, coluna, period = 20):\n",
    "    season = decompor_sinal(df[coluna], period=period, two_sided=False )\n",
    "    tendencia = season.trend\n",
    "    tendencia.dropna()\n",
    "    df.loc[tendencia.dropna().index].copy()\n",
    "    df[coluna] = tendencia"
   ]
  },
  {
   "cell_type": "markdown",
   "metadata": {},
   "source": [
    "## Obter dados"
   ]
  },
  {
   "cell_type": "code",
   "execution_count": 591,
   "metadata": {},
   "outputs": [
    {
     "name": "stderr",
     "output_type": "stream",
     "text": [
      "[*********************100%%**********************]  1 of 1 completed\n"
     ]
    }
   ],
   "source": [
    "dados = get_data_ticker(EMPRESA, period='5y')\n",
    "dados['Close_diff'] = dados['Close'].diff().dropna()\n",
    "dados.dropna(inplace=True)"
   ]
  },
  {
   "cell_type": "code",
   "execution_count": 592,
   "metadata": {},
   "outputs": [],
   "source": [
    "for f in features_trend:\n",
    "    aplicar_tendencia_coluna(dados, f)"
   ]
  },
  {
   "cell_type": "code",
   "execution_count": 593,
   "metadata": {},
   "outputs": [
    {
     "data": {
      "image/png": "[encoded data removed]",
      "text/plain": [
       "<Figure size 640x480 with 4 Axes>"
      ]
     },
     "metadata": {},
     "output_type": "display_data"
    }
   ],
   "source": [
    "if 'tomorrow' in features_trend:\n",
    "    season = decompor_sinal(dados['tomorrow'], period=20 )\n",
    "    tendencia = season.trend\n",
    "\n",
    "    season.plot()\n",
    "    plt.show()"
   ]
  },
  {
   "cell_type": "markdown",
   "metadata": {},
   "source": []
  },
  {
   "cell_type": "code",
   "execution_count": 594,
   "metadata": {},
   "outputs": [],
   "source": [
    "#plt.figure(figsize=(15,10))\n",
    "\n",
    "#ax1 = plt.subplot2grid((10,1),(0,0), rowspan=4, colspan=1)\n",
    "#ax2 = plt.subplot2grid((10,1),(5,0), rowspan=4, colspan=1)\n",
    "#ax1.plot(dados['Close'])\n",
    "#ax1.set_title('Preço de fechamento')\n",
    "\n",
    "#ax2.plot(dados['Close_diff'])\n",
    "#ax2.set_title('Percentual de diferença entre fechamentos')"
   ]
  },
  {
   "cell_type": "markdown",
   "metadata": {},
   "source": [
    "Separando dados de treino e teste"
   ]
  },
  {
   "cell_type": "code",
   "execution_count": 595,
   "metadata": {},
   "outputs": [],
   "source": [
    "def split_X_y(df):\n",
    "    scaler = MinMaxScaler(feature_range=(0, 1))\n",
    "    df_scaled = pd.DataFrame(scaler.fit_transform(df[features]), index=df.index, columns=features)\n",
    "    X, y = create_sequences(df_scaled[features].values, df[target].values, n_past)\n",
    "    X_train, X_test, y_train, y_test = train_test_split(X, y, train_size=qtdTreino, shuffle=False)\n",
    "    return (X, y, X_train, X_test, y_train, y_test)"
   ]
  },
  {
   "cell_type": "code",
   "execution_count": 596,
   "metadata": {},
   "outputs": [],
   "source": [
    "X, y, X_train, X_test, y_train, y_test = split_X_y(dados)"
   ]
  },
  {
   "cell_type": "code",
   "execution_count": 597,
   "metadata": {},
   "outputs": [],
   "source": [
    "if 'Close' in features:\n",
    "    close_index = features.index('Close')\n",
    "\n",
    "    close_values= [X_train[i, :, close_index] for i in range(X_train.shape[0])]\n",
    "    X_train_plot = [arr[0] for arr in close_values]\n",
    "\n",
    "    close_values= [X_test[i, :, close_index] for i in range(X_test.shape[0])]\n",
    "    X_test_plot = [arr[0] for arr in close_values]\n"
   ]
  },
  {
   "cell_type": "code",
   "execution_count": 598,
   "metadata": {},
   "outputs": [
    {
     "data": {
      "application/vnd.plotly.v1+json": {
       "config": {
        "plotlyServerURL": "https://plot.ly"
       },
       "data": [
        {
         "hovertemplate": "tipo=treino<br>index=%{x}<br>tomorrow=%{y}<extra></extra>",
         "legendgroup": "treino",
         "line": {
          "color": "#636efa",
          "dash": "solid"
         },
         "marker": {
          "symbol": "circle"
         },
         "mode": "lines",
         "name": "treino",
         "showlegend": true,
         "type": "scattergl",
         "x": [
          0,
          1,
          2,
          3,
          4,
          5,
          6,
          7,
          8,
          9,
          10,
          11,
          12,
          13,
          14,
          15,
          16,
          17,
          18,
          19,
          20,
          21,
          22,
          23,
          24,
          25,
          26,
          27,
          28,
          29,
          30,
          31,
          32,
          33,
          34,
          35,
          36,
          37,
          38,
          39,
          40,
          41,
          42,
          43,
          44,
          45,
          46,
          47,
          48,
          49,
          50,
          51,
          52,
          53,
          54,
          55,
          56,
          57,
          58,
          59,
          60,
          61,
          62,
          63,
          64,
          65,
          66,
          67,
          68,
          69,
          70,
          71,
          72,
          73,
          74,
          75,
          76,
          77,
          78,
          79,
          80,
          81,
          82,
          83,
          84,
          85,
          86,
          87,
          88,
          89,
          90,
          91,
          92,
          93,
          94,
          95,
          96,
          97,
          98,
          99,
          100,
          101,
          102,
          103,
          104,
          105,
          106,
          107,
          108,
          109,
          110,
          111,
          112,
          113,
          114,
          115,
          116,
          117,
          118,
          119,
          120,
          121,
          122,
          123,
          124,
          125,
          126,
          127,
          128,
          129,
          130,
          131,
          132,
          133,
          134,
          135,
          136,
          137,
          138,
          139,
          140,
          141,
          142,
          143,
          144,
          145,
          146,
          147,
          148,
          149,
          150,
          151,
          152,
          153,
          154,
          155,
          156,
          157,
          158,
          159,
          160,
          161,
          162,
          163,
          164,
          165,
          166,
          167,
          168,
          169,
          170,
          171,
          172,
          173,
          174,
          175,
          176,
          177,
          178,
          179,
          180,
          181,
          182,
          183,
          184,
          185,
          186,
          187,
          188,
          189,
          190,
          191,
          192,
          193,
          194,
          195,
          196,
          197,
          198,
          199,
          200,
          201,
          202,
          203,
          204,
          205,
          206,
          207,
          208,
          209,
          210,
          211,
          212,
          213,
          214,
          215,
          216,
          217,
          218,
          219,
          220,
          221,
          222,
          223,
          224,
          225,
          226,
          227,
          228,
          229,
          230,
          231,
          232,
          233,
          234,
          235,
          236,
          237,
          238,
          239,
          240,
          241,
          242,
          243,
          244,
          245,
          246,
          247,
          248,
          249,
          250,
          251,
          252,
          253,
          254,
          255,
          256,
          257,
          258,
          259,
          260,
          261,
          262,
          263,
          264,
          265,
          266,
          267,
          268,
          269,
          270,
          271,
          272,
          273,
          274,
          275,
          276,
          277,
          278,
          279,
          280,
          281,
          282,
          283,
          284,
          285,
          286,
          287,
          288,
          289,
          290,
          291,
          292,
          293,
          294,
          295,
          296,
          297,
          298,
          299,
          300,
          301,
          302,
          303,
          304,
          305,
          306,
          307,
          308,
          309,
          310,
          311,
          312,
          313,
          314,
          315,
          316,
          317,
          318,
          319,
          320,
          321,
          322,
          323,
          324,
          325,
          326,
          327,
          328,
          329,
          330,
          331,
          332,
          333,
          334,
          335,
          336,
          337,
          338,
          339,
          340,
          341,
          342,
          343,
          344,
          345,
          346,
          347,
          348,
          349,
          350,
          351,
          352,
          353,
          354,
          355,
          356,
          357,
          358,
          359,
          360,
          361,
          362,
          363,
          364,
          365,
          366,
          367,
          368,
          369,
          370,
          371,
          372,
          373,
          374,
          375,
          376,
          377,
          378,
          379,
          380,
          381,
          382,
          383,
          384,
          385,
          386,
          387,
          388,
          389,
          390,
          391,
          392,
          393,
          394,
          395,
          396,
          397,
          398,
          399,
          400,
          401,
          402,
          403,
          404,
          405,
          406,
          407,
          408,
          409,
          410,
          411,
          412,
          413,
          414,
          415,
          416,
          417,
          418,
          419,
          420,
          421,
          422,
          423,
          424,
          425,
          426,
          427,
          428,
          429,
          430,
          431,
          432,
          433,
          434,
          435,
          436,
          437,
          438,
          439,
          440,
          441,
          442,
          443,
          444,
          445,
          446,
          447,
          448,
          449,
          450,
          451,
          452,
          453,
          454,
          455,
          456,
          457,
          458,
          459,
          460,
          461,
          462,
          463,
          464,
          465,
          466,
          467,
          468,
          469,
          470,
          471,
          472,
          473,
          474,
          475,
          476,
          477,
          478,
          479,
          480,
          481,
          482,
          483,
          484,
          485,
          486,
          487,
          488,
          489,
          490,
          491,
          492,
          493,
          494,
          495,
          496,
          497,
          498,
          499,
          500,
          501,
          502,
          503,
          504,
          505,
          506,
          507,
          508,
          509,
          510,
          511,
          512,
          513,
          514,
          515,
          516,
          517,
          518,
          519,
          520,
          521,
          522,
          523,
          524,
          525,
          526,
          527,
          528,
          529,
          530,
          531,
          532,
          533,
          534,
          535,
          536,
          537,
          538,
          539,
          540,
          541,
          542,
          543,
          544,
          545,
          546,
          547,
          548,
          549,
          550,
          551,
          552,
          553,
          554,
          555,
          556,
          557,
          558,
          559,
          560,
          561,
          562,
          563,
          564,
          565,
          566,
          567,
          568,
          569,
          570,
          571,
          572,
          573,
          574,
          575,
          576,
          577,
          578,
          579,
          580,
          581,
          582,
          583,
          584,
          585,
          586,
          587,
          588,
          589,
          590,
          591,
          592,
          593,
          594,
          595,
          596,
          597,
          598,
          599,
          600,
          601,
          602,
          603,
          604,
          605,
          606,
          607,
          608,
          609,
          610,
          611,
          612,
          613,
          614,
          615,
          616,
          617,
          618,
          619,
          620,
          621,
          622,
          623,
          624,
          625,
          626,
          627,
          628,
          629,
          630,
          631,
          632,
          633,
          634,
          635,
          636,
          637,
          638,
          639,
          640,
          641,
          642,
          643,
          644,
          645,
          646,
          647,
          648,
          649,
          650,
          651,
          652,
          653,
          654,
          655,
          656,
          657,
          658,
          659,
          660,
          661,
          662,
          663,
          664,
          665,
          666,
          667,
          668,
          669,
          670,
          671,
          672,
          673,
          674,
          675,
          676,
          677,
          678,
          679,
          680,
          681,
          682,
          683,
          684,
          685,
          686,
          687,
          688,
          689,
          690,
          691,
          692,
          693,
          694,
          695,
          696,
          697,
          698,
          699,
          700,
          701,
          702,
          703,
          704,
          705,
          706,
          707,
          708,
          709,
          710,
          711,
          712,
          713,
          714,
          715,
          716,
          717,
          718,
          719,
          720,
          721,
          722,
          723,
          724,
          725,
          726,
          727,
          728,
          729,
          730,
          731,
          732,
          733,
          734,
          735,
          736,
          737,
          738,
          739,
          740,
          741,
          742,
          743,
          744,
          745,
          746,
          747,
          748,
          749,
          750,
          751,
          752,
          753,
          754,
          755,
          756,
          757,
          758,
          759,
          760,
          761,
          762,
          763,
          764,
          765,
          766,
          767,
          768,
          769,
          770,
          771,
          772,
          773,
          774,
          775,
          776,
          777,
          778,
          779,
          780,
          781,
          782,
          783,
          784,
          785,
          786,
          787,
          788,
          789,
          790,
          791,
          792,
          793,
          794,
          795,
          796,
          797,
          798,
          799,
          800,
          801,
          802,
          803,
          804,
          805,
          806,
          807,
          808,
          809,
          810,
          811,
          812,
          813,
          814,
          815,
          816,
          817,
          818,
          819,
          820,
          821,
          822,
          823,
          824,
          825,
          826,
          827,
          828,
          829,
          830,
          831,
          832,
          833,
          834,
          835,
          836,
          837,
          838,
          839,
          840,
          841,
          842,
          843,
          844,
          845,
          846,
          847,
          848,
          849,
          850,
          851,
          852,
          853,
          854,
          855,
          856,
          857,
          858,
          859,
          860,
          861,
          862,
          863,
          864,
          865,
          866,
          867,
          868,
          869,
          870,
          871,
          872,
          873,
          874,
          875,
          876,
          877,
          878,
          879,
          880,
          881,
          882,
          883,
          884,
          885,
          886,
          887,
          888,
          889,
          890,
          891,
          892,
          893,
          894,
          895,
          896,
          897,
          898,
          899,
          900,
          901,
          902,
          903,
          904,
          905,
          906,
          907,
          908,
          909,
          910,
          911,
          912,
          913,
          914,
          915,
          916,
          917,
          918,
          919,
          920,
          921,
          922,
          923,
          924,
          925,
          926,
          927,
          928,
          929,
          930,
          931,
          932,
          933,
          934,
          935,
          936,
          937,
          938,
          939,
          940,
          941,
          942,
          943,
          944,
          945,
          946,
          947,
          948,
          949,
          950,
          951,
          952,
          953,
          954,
          955,
          956,
          957,
          958,
          959,
          960,
          961
         ],
         "xaxis": "x",
         "y": [
          54.03674993515015,
          54.13474988937378,
          54.261499881744385,
          54.451499938964844,
          54.613999938964845,
          54.7354998588562,
          54.810749816894536,
          54.808999729156504,
          54.68249959945679,
          54.515499591827385,
          54.391749668121335,
          54.25724964141846,
          54.0949995994568,
          53.93599958419801,
          53.825249576568616,
          53.75649967193604,
          53.73049974441529,
          53.69849967956544,
          53.53924961090088,
          53.32174959182739,
          53.17224960327149,
          53.03674964904784,
          52.81099967956543,
          52.56224966049194,
          52.38274965286255,
          52.21474971771241,
          52.04499979019166,
          51.87074985504151,
          51.649999904632566,
          51.35274991989135,
          51.023499965667725,
          50.73400001525879,
          50.50749998092652,
          50.35099992752075,
          50.156999874114994,
          49.811999797821045,
          49.2162498474121,
          48.647749996185304,
          48.2292501449585,
          47.57550020217895,
          46.90375022888184,
          46.32200031280518,
          45.757250308990486,
          45.151000308990476,
          44.37200040817261,
          43.52150039672852,
          42.62850027084351,
          41.86375017166138,
          41.43900012969971,
          41.26475009918212,
          41.09774999618531,
          40.87774991989136,
          40.68474998474121,
          40.47650003433227,
          40.24475002288818,
          40.04025001525879,
          40.06999998092651,
          40.17674989700318,
          40.22024974822998,
          40.48774967193604,
          40.72774963378906,
          40.90674953460694,
          41.085999488830566,
          41.230749416351316,
          41.5234992980957,
          41.89524927139282,
          42.29699935913086,
          42.66374940872193,
          42.883249378204354,
          43.01974935531616,
          43.19624938964844,
          43.43299942016602,
          43.59799938201904,
          43.65299940109253,
          43.68999948501586,
          43.80874958038331,
          43.97749958038331,
          44.17724952697755,
          44.40949954986572,
          44.619499588012694,
          44.82324962615967,
          45.011499691009526,
          45.22199974060059,
          45.555999755859375,
          45.975999736785894,
          46.43449974060059,
          46.891249752044686,
          47.26599979400636,
          47.59349985122681,
          47.86824989318848,
          48.135249900817875,
          48.369999885559075,
          48.65749988555908,
          49.09824981689453,
          49.57849969863892,
          50.054749584198,
          50.52824954986572,
          50.91249961853027,
          51.23274965286254,
          51.59724969863891,
          51.92699975967407,
          52.201249790191646,
          52.479749870300296,
          52.72874994277954,
          52.9295000076294,
          53.118750000000006,
          53.31149988174439,
          53.53074979782105,
          53.786249828338626,
          54.07824983596802,
          54.366999816894534,
          54.63924980163575,
          54.843249797821045,
          54.97149982452393,
          55.06199989318847,
          55.1357500076294,
          55.17150001525879,
          55.21049995422363,
          55.29924993515015,
          55.39724988937378,
          55.51099977493286,
          55.65574970245361,
          55.839249706268305,
          56.09124975204467,
          56.388749790191646,
          56.62724981307984,
          56.87274990081787,
          57.16449995040894,
          57.412249946594244,
          57.61125001907349,
          57.778750038146974,
          57.92449998855591,
          58.14249992370606,
          58.39649991989136,
          58.71724996566772,
          59.071999931335455,
          59.35274991989136,
          59.58124990463257,
          59.78174991607666,
          60.011749935150156,
          60.268750000000004,
          60.49100008010864,
          60.69175004959107,
          60.76999998092651,
          60.72724990844726,
          60.72574987411499,
          60.739249801635744,
          60.78274974822998,
          60.90249977111817,
          61.0652497291565,
          61.2464997291565,
          61.43899984359742,
          61.56874990463257,
          61.640499877929685,
          61.64249982833863,
          61.60049982070923,
          61.59824981689454,
          61.59349985122681,
          61.60549983978271,
          61.61024980545044,
          61.52574977874757,
          61.46399974822998,
          61.391749763488775,
          61.311499786376956,
          61.23024978637695,
          61.19599981307984,
          61.249999904632574,
          61.273249912261974,
          61.23024988174439,
          61.170249938964844,
          61.13024997711181,
          61.04299993515015,
          60.85924997329711,
          60.667500019073486,
          60.5272500038147,
          60.411499977111816,
          60.314999961853026,
          60.22374992370605,
          60.12424993515015,
          59.99650001525879,
          59.91000003814697,
          59.862500000000004,
          59.82374992370607,
          59.81174983978272,
          59.88499984741212,
          59.945249843597416,
          59.94224977493286,
          59.95799980163575,
          60.00549983978272,
          60.04699983596802,
          60.05824985504151,
          60.11149988174439,
          60.28349981307984,
          60.50949974060059,
          60.72924976348878,
          60.930249786376955,
          61.10524978637696,
          61.246749782562254,
          61.36724977493286,
          61.48224973678589,
          61.64999971389771,
          61.82524976730347,
          61.973249816894544,
          62.14699983596802,
          62.269999790191655,
          62.35649976730346,
          62.431999778747546,
          62.460249710083005,
          62.47149963378906,
          62.55799951553345,
          62.750499439239505,
          62.99124937057495,
          63.228249359130864,
          63.554749488830566,
          64.04324960708618,
          64.65199966430664,
          65.32799968719482,
          66.13349981307984,
          66.98749990463259,
          67.90449991226197,
          68.83449983596802,
          69.68149967193604,
          70.60174970626831,
          71.58149976730348,
          72.56824979782105,
          73.54949979782104,
          74.57299976348877,
          75.66274986267089,
          76.72500000000001,
          77.72200012207033,
          78.69275016784668,
          79.69275016784668,
          80.71350021362306,
          81.60475025177003,
          82.29750022888183,
          82.89750022888182,
          83.46250019073487,
          83.94675006866454,
          84.39874992370606,
          84.89024982452395,
          85.4744998931885,
          86.23075008392335,
          87.16650009155276,
          88.15125007629396,
          89.10450019836426,
          89.99375038146974,
          90.68650054931639,
          91.29050064086915,
          91.8640007019043,
          92.35925064086915,
          92.80050048828127,
          93.12450046539308,
          93.39150047302248,
          93.68825035095215,
          93.96625022888183,
          94.13250007629397,
          94.2732500076294,
          94.38999996185304,
          94.50749988555908,
          94.50799999237061,
          94.34875011444092,
          94.11550006866456,
          93.70575008392335,
          93.26525020599364,
          92.87225017547607,
          92.56674995422361,
          92.37649974822997,
          92.2007495880127,
          92.17299938201907,
          92.32024936676025,
          92.49024944305421,
          92.65874938964843,
          92.82424926757812,
          93.03299922943114,
          93.25099925994873,
          93.48299922943116,
          93.80274925231936,
          94.3307493209839,
          94.89899940490723,
          95.40599937438965,
          95.93049926757813,
          96.434499168396,
          96.84349899291993,
          97.07149887084961,
          97.28624877929687,
          97.48999881744385,
          97.65049896240235,
          97.80899906158449,
          97.91324920654297,
          97.92099933624269,
          97.81524944305419,
          97.68699951171874,
          97.48624954223634,
          97.2194995880127,
          97.01824970245362,
          96.96174983978273,
          96.97224998474124,
          96.84425010681153,
          96.67150020599365,
          96.57525024414062,
          96.61800022125243,
          96.75700035095213,
          96.96375045776365,
          97.29475040435791,
          97.56100044250489,
          97.79350051879885,
          98.1125005722046,
          98.5437505722046,
          99.06375045776369,
          99.63425025939942,
          100.27075023651123,
          100.91825046539307,
          101.62125072479247,
          102.37150077819824,
          103.14575061798097,
          103.91375064849854,
          104.62700061798095,
          105.34750041961671,
          105.99575023651123,
          106.5487501144409,
          106.99325008392334,
          107.37749996185303,
          107.85624999999999,
          108.39225006103517,
          108.95825004577637,
          109.63350009918213,
          110.28525009155275,
          110.69125003814698,
          110.88724994659425,
          111.06574993133545,
          111.35724983215331,
          111.68124961853029,
          111.95549945831299,
          112.11274948120118,
          112.17824954986573,
          112.13174953460691,
          112.01199951171874,
          111.94499950408935,
          111.98524951934814,
          112.20749950408936,
          112.44299945831298,
          112.62274951934815,
          112.6712495803833,
          112.52624969482423,
          112.3157497406006,
          112.03349952697754,
          111.80799942016603,
          111.79174938201905,
          111.91699943542478,
          111.94699954986572,
          111.73674964904787,
          111.41674976348878,
          111.20749969482424,
          111.1747495651245,
          111.23299961090088,
          111.4239995956421,
          111.59524955749512,
          111.65124969482423,
          111.66174983978273,
          111.58024997711182,
          111.52475013732911,
          111.43800010681154,
          111.36700000762939,
          111.41824989318847,
          111.5487497329712,
          111.6924997329712,
          111.78574981689455,
          111.84974994659426,
          111.91875,
          112.06000003814697,
          112.33375015258788,
          112.70450019836426,
          112.96875038146972,
          113.12025051116944,
          113.2700004577637,
          113.38575038909913,
          113.50375041961672,
          113.68600044250488,
          113.88050041198731,
          114.08975048065187,
          114.26750049591067,
          114.26250057220462,
          114.08325061798098,
          113.95375061035158,
          113.90925064086917,
          113.7525007247925,
          113.52800064086914,
          113.27750053405762,
          112.9837505340576,
          112.69525032043457,
          112.39200000762939,
          112.10749988555906,
          111.89599990844727,
          111.65949993133545,
          111.23225002288818,
          110.52775020599367,
          109.68375034332276,
          108.75950031280519,
          107.88775024414065,
          107.08100013732911,
          106.20250015258787,
          105.56725025177002,
          105.14350032806396,
          104.5725004196167,
          103.88175048828127,
          103.27650051116943,
          102.73575057983399,
          102.15975055694581,
          101.48550052642821,
          100.74575061798097,
          100.02175064086916,
          99.32350063323976,
          98.6172504425049,
          97.86800022125246,
          97.09950008392335,
          96.42849998474121,
          95.77449989318849,
          95.10249996185306,
          94.48550014495852,
          93.65575027465822,
          92.62750034332275,
          91.56675033569334,
          90.38950023651121,
          89.18750019073484,
          88.05025024414061,
          86.92650012969969,
          85.78999996185303,
          84.65924987792968,
          83.65699977874756,
          82.82399978637696,
          82.06649990081787,
          81.36399993896484,
          80.66324996948241,
          79.97749996185301,
          79.48274993896483,
          79.14574985504149,
          78.89624977111815,
          78.61624965667724,
          78.13124961853028,
          77.76174964904784,
          77.67374954223634,
          77.59099941253662,
          77.5154993057251,
          77.45299911499023,
          77.28474903106691,
          77.07199916839602,
          76.75849933624269,
          76.31999950408937,
          75.77424964904786,
          75.15649967193605,
          74.5147497177124,
          73.76874980926515,
          73.09074993133547,
          72.53850021362304,
          71.90725040435792,
          71.17550048828126,
          70.38575057983398,
          69.65300064086914,
          69.14775047302247,
          68.79075031280519,
          68.47250041961671,
          68.18000049591065,
          67.89275054931642,
          67.6425006866455,
          67.49600067138671,
          67.40225067138672,
          67.51650066375733,
          67.82800064086915,
          68.26450061798096,
          68.77425060272218,
          69.23800067901611,
          69.72075061798095,
          70.14900054931643,
          70.57900047302246,
          71.10600032806398,
          71.70425033569336,
          72.46725044250488,
          73.29850044250489,
          73.94425048828124,
          74.48575038909914,
          74.98350009918212,
          75.42325000762939,
          75.8972499847412,
          76.34374999999999,
          76.7150001525879,
          77.0907501220703,
          77.39675006866456,
          77.63975009918214,
          77.82100009918214,
          77.9482500076294,
          78.23049983978271,
          78.63199977874757,
          79.05074977874757,
          79.46499977111819,
          79.81474971771243,
          80.15549964904785,
          80.43274955749513,
          80.70649948120118,
          81.13324947357178,
          81.54074954986572,
          81.82474975585939,
          82.06749992370605,
          82.31324996948243,
          82.6222499847412,
          82.98449993133544,
          83.3079999923706,
          83.52225017547607,
          83.79975013732911,
          84.20500011444094,
          84.56375026702881,
          84.82300033569335,
          85.10125026702882,
          85.4497501373291,
          85.76775016784669,
          86.15725040435791,
          86.58100051879883,
          86.94600048065183,
          87.19250049591064,
          87.288250541687,
          87.29400062561035,
          87.29050064086913,
          87.36425056457519,
          87.498250579834,
          87.63575057983398,
          87.76625061035156,
          88.0580005645752,
          88.74300041198731,
          89.57225036621094,
          90.33650035858155,
          91.22400035858155,
          92.01850032806396,
          92.4315004348755,
          92.68075065612794,
          92.96300067901612,
          93.04075050354004,
          92.90900039672852,
          92.82300033569338,
          92.94825038909913,
          93.24925041198732,
          93.74300022125246,
          94.34125003814698,
          94.8742498397827,
          95.37599983215331,
          95.8329999923706,
          96.24699993133545,
          96.49799976348876,
          96.45949974060058,
          96.26249980926514,
          96.03474979400634,
          95.73124980926515,
          95.41924991607665,
          95.34449996948244,
          95.39924983978271,
          95.35399971008302,
          95.37299976348878,
          95.54299983978272,
          95.70974998474122,
          95.71124992370606,
          95.51799983978272,
          95.10174999237061,
          94.54350013732912,
          93.86350021362306,
          93.01775016784669,
          92.14125003814696,
          91.38125,
          90.79400005340578,
          90.2215000152588,
          89.58999996185304,
          88.91149997711182,
          88.1467498779297,
          87.37399978637694,
          86.58474979400634,
          85.64899978637696,
          84.64274978637694,
          83.76974983215331,
          83.0002498626709,
          82.22374973297119,
          81.535249710083,
          80.9672498703003,
          80.45049991607667,
          80.06424980163574,
          79.94574985504151,
          80.06199989318849,
          80.30899982452392,
          80.51324996948243,
          80.5677501678467,
          80.62975025177003,
          80.78375034332277,
          80.96975040435791,
          81.2232503890991,
          81.62325038909911,
          82.08000030517577,
          82.59900035858155,
          83.27750053405762,
          83.87475051879883,
          84.2610004425049,
          84.5957504272461,
          84.80800037384034,
          84.89950027465821,
          85.04475021362305,
          85.08100032806396,
          84.87600040435791,
          84.55900039672852,
          84.16875038146974,
          83.65900020599365,
          83.12575016021728,
          82.69325027465821,
          82.32150020599366,
          81.9560001373291,
          81.47850017547609,
          80.81650009155274,
          80.10174999237061,
          79.40074996948243,
          78.65399990081788,
          78.00549983978273,
          77.5189998626709,
          76.9972499847412,
          76.48325023651122,
          76.0395004272461,
          75.47350044250489,
          74.90450038909913,
          74.50925045013427,
          74.16200046539306,
          73.7850004196167,
          73.48525047302246,
          73.24925041198729,
          72.92500019073486,
          72.5087501525879,
          72.07475013732912,
          71.7212501525879,
          71.44075031280518,
          71.14225044250489,
          70.87625045776366,
          70.58800029754639,
          70.1497501373291,
          69.7135000228882,
          69.42224998474121,
          69.23974990844728,
          69.09474983215331,
          69.1394998550415,
          69.28874988555908,
          69.31374988555909,
          69.32649993896486,
          69.37100009918213,
          69.37075023651124,
          69.29325027465822,
          69.12425041198732,
          69.00775051116943,
          68.93975048065187,
          68.84000034332276,
          68.7665002822876,
          68.6992504119873,
          68.53800048828124,
          68.33050060272217,
          68.17400074005128,
          67.96600074768068,
          67.75500068664552,
          67.51275062561035,
          67.2160005569458,
          67.00400066375732,
          66.93950080871582,
          66.94725074768067,
          66.87550067901611,
          66.80800056457521,
          66.82425041198731,
          66.92500038146973,
          67.09925022125245,
          67.14200000762939,
          67.14974994659424,
          67.1840000152588,
          67.17875003814697,
          67.21074981689453,
          67.31474952697754,
          67.49724941253663,
          67.799249458313,
          68.27999954223633,
          68.82124958038331,
          69.41774959564209,
          70.01799964904787,
          70.43499965667726,
          70.67974948883057,
          70.90649929046631,
          71.16699924468995,
          71.33349933624267,
          71.43749942779542,
          71.5419994354248,
          71.62099952697756,
          71.75174961090089,
          71.94374961853029,
          72.13049964904783,
          72.29474964141845,
          72.52074966430663,
          72.73074989318847,
          72.77049999237062,
          72.62324981689454,
          72.37974967956544,
          72.04299964904786,
          71.70924968719484,
          71.50749969482422,
          71.38699970245362,
          71.32949981689454,
          71.33500003814696,
          71.61450023651123,
          72.20450019836426,
          72.82925014495851,
          73.39550018310547,
          73.91700019836426,
          74.35750026702881,
          74.70525035858154,
          75.08050041198732,
          75.54350032806396,
          75.96575031280517,
          76.40975036621093,
          77.09425048828125,
          77.98350067138672,
          78.87325077056886,
          79.7897508621216,
          80.64250087738037,
          81.40650081634521,
          82.07875061035155,
          82.66675033569337,
          83.33975009918214,
          83.78924980163573,
          83.95524978637695,
          84.1377498626709,
          84.35074977874757,
          84.57374973297121,
          84.83124980926515,
          85.10774993896484,
          85.38074989318847,
          85.62099990844725,
          85.86399993896482,
          86.14474983215331,
          86.40874977111817,
          86.60949974060058,
          86.75899963378905,
          86.89149951934814,
          87.01974945068359,
          87.11874942779541,
          87.30599956512451,
          87.61899967193602,
          87.87299976348878,
          88.15275001525879,
          88.51725006103517,
          88.86574993133546,
          89.20324993133545,
          89.53374996185303,
          89.8669998168945,
          90.22574958801269,
          90.60299949645996,
          90.9964994430542,
          91.40199947357178,
          91.80624961853026,
          92.18624954223633,
          92.586749458313,
          92.97299957275392,
          93.27349967956543,
          93.54474983215333,
          93.77799987792969,
          93.83549976348876,
          93.7067497253418,
          93.50699958801269,
          93.26299934387205,
          93.02074928283692,
          92.77374935150146,
          92.46449947357178,
          92.15049953460694,
          91.88624954223634,
          91.65199966430664,
          91.42974987030033,
          91.1670000076294,
          90.84449996948244,
          90.46224975585938,
          89.97449970245361,
          89.37149982452392,
          88.79749984741211,
          88.40299968719485,
          88.12074947357178,
          87.87899951934816,
          87.70024967193604,
          87.53499984741211,
          87.40125007629393,
          87.27200031280518,
          87.08550033569334,
          86.90150032043456,
          86.7475004196167,
          86.54550037384031,
          86.28025035858154,
          85.98975048065186,
          85.68850059509278,
          85.41100063323975,
          85.13600063323976,
          84.80975074768068,
          84.46625080108645,
          84.14450073242188,
          83.83325080871582,
          83.46725101470948,
          83.07050113677978,
          82.66575107574464,
          82.29450092315675,
          81.96625080108643,
          81.55350074768067,
          81.11725063323975,
          80.7497507095337,
          80.52075080871583,
          80.36900062561035,
          80.23600063323975,
          80.1140007019043,
          79.91900062561037,
          79.67575054168701,
          79.39250049591064,
          79.05550060272216,
          78.68950061798097,
          78.28225059509279,
          77.85875053405762,
          77.46175041198731,
          77.06875038146971,
          76.55900039672852,
          75.96975040435791,
          75.35125045776367,
          74.79000053405763,
          74.39200057983398,
          74.06750068664552,
          73.69425067901612,
          73.11375064849854,
          72.44200077056885,
          71.86775074005128,
          71.32725067138672,
          70.84825057983399,
          70.43450050354004,
          70.044500541687,
          69.70450038909911,
          69.40550022125245,
          69.14675025939943,
          68.88750038146972,
          68.6162504196167,
          68.31625041961671,
          68.02050037384032,
          67.75925035476685,
          67.58700046539307,
          67.51700057983399,
          67.42475051879883,
          67.28275032043457,
          67.18825016021728,
          67.17975006103515,
          67.16450004577636,
          67.10975017547607,
          67.11350021362306,
          67.14000015258789,
          67.12425003051759,
          67.12124996185305,
          67.11375007629395,
          67.11075019836426,
          67.15800018310546,
          67.22225017547608,
          67.24125022888185,
          67.25900020599366,
          67.29500026702881,
          67.34850034713746,
          67.36750030517578,
          67.3012502670288,
          67.22150039672852,
          67.12750053405762,
          66.97500057220459,
          66.80700054168702,
          66.66800041198731,
          66.57025032043458,
          66.48975048065185,
          66.4167507171631,
          66.36650085449219,
          66.3012508392334,
          66.2577507019043,
          66.26075057983398,
          66.28900051116945,
          66.35700054168701,
          66.49975051879882,
          66.72450046539306,
          67.03000049591066,
          67.3287504196167,
          67.53675022125243,
          67.6952501296997,
          67.8260000228882,
          67.92774982452393,
          68.03849983215333,
          68.15749988555908,
          68.29599990844726,
          68.40399990081788,
          68.4209997177124,
          68.35224952697754,
          68.21099948883058,
          67.9847496032715,
          67.68274974822998,
          67.3747498512268,
          67.08299989700318,
          66.7814998626709,
          66.40324983596803,
          65.95374984741213,
          65.49999980926513,
          65.0764998435974,
          64.73199996948242,
          64.43799991607666,
          64.20224990844727,
          64.06875019073487,
          63.95525035858156,
          63.92775039672853,
          63.998500442504884,
          64.07700042724609,
          64.14650039672853,
          64.1912504196167,
          64.26150035858154,
          64.458500289917,
          64.75325031280518,
          65.13175039291383,
          65.54925050735474,
          65.92750053405761,
          66.30375051498413,
          66.66075038909914,
          66.94050025939941,
          67.19700021743775,
          67.45525016784669,
          67.63350009918213,
          67.71674995422364,
          67.77799968719484,
          67.88349952697754,
          67.89849948883057,
          67.78049945831299,
          67.6292495727539,
          67.49624977111817,
          67.44774990081788,
          67.41924991607667,
          67.36599979400634,
          67.34499969482422,
          67.25674953460694,
          67.11249942779541,
          67.03474941253663,
          66.92574939727784,
          66.71624946594238,
          66.47349948883056,
          66.21699953079224,
          66.01574964523316,
          65.90974979400634,
          65.8590000152588,
          65.87075023651123,
          65.90750026702881,
          65.97275028228759,
          66.11650028228759,
          66.34325008392335,
          66.61649990081787,
          66.83699989318848,
          67.01124992370606,
          67.1972499847412,
          67.39425010681153,
          67.6192502975464,
          67.89725036621094,
          68.21125030517578,
          68.58950023651124,
          69.1025001525879,
          69.77400016784668,
          70.461750125885,
          71.02874994277954,
          71.53399982452393,
          71.97974967956543
         ],
         "yaxis": "y"
        },
        {
         "hovertemplate": "tipo=teste<br>index=%{x}<br>tomorrow=%{y}<extra></extra>",
         "legendgroup": "teste",
         "line": {
          "color": "#EF553B",
          "dash": "solid"
         },
         "marker": {
          "symbol": "circle"
         },
         "mode": "lines",
         "name": "teste",
         "showlegend": true,
         "type": "scattergl",
         "x": [
          962,
          963,
          964,
          965,
          966,
          967,
          968,
          969,
          970,
          971,
          972,
          973,
          974,
          975,
          976,
          977,
          978,
          979,
          980,
          981,
          982,
          983,
          984,
          985,
          986,
          987,
          988,
          989,
          990,
          991,
          992,
          993,
          994,
          995,
          996,
          997,
          998,
          999,
          1000,
          1001,
          1002,
          1003,
          1004,
          1005,
          1006,
          1007,
          1008,
          1009,
          1010,
          1011,
          1012,
          1013,
          1014,
          1015,
          1016,
          1017,
          1018,
          1019,
          1020,
          1021,
          1022,
          1023,
          1024,
          1025,
          1026,
          1027,
          1028,
          1029,
          1030,
          1031,
          1032,
          1033,
          1034,
          1035,
          1036,
          1037,
          1038,
          1039,
          1040,
          1041,
          1042,
          1043,
          1044,
          1045,
          1046,
          1047,
          1048,
          1049,
          1050,
          1051,
          1052,
          1053,
          1054,
          1055,
          1056,
          1057,
          1058,
          1059,
          1060,
          1061,
          1062,
          1063,
          1064,
          1065,
          1066,
          1067,
          1068,
          1069,
          1070,
          1071,
          1072,
          1073,
          1074,
          1075,
          1076,
          1077,
          1078,
          1079,
          1080,
          1081,
          1082,
          1083,
          1084,
          1085,
          1086,
          1087,
          1088,
          1089,
          1090,
          1091,
          1092,
          1093,
          1094,
          1095,
          1096,
          1097,
          1098,
          1099,
          1100,
          1101,
          1102,
          1103,
          1104,
          1105,
          1106,
          1107,
          1108,
          1109,
          1110,
          1111,
          1112,
          1113,
          1114,
          1115,
          1116,
          1117,
          1118,
          1119,
          1120,
          1121,
          1122,
          1123,
          1124,
          1125,
          1126,
          1127,
          1128,
          1129,
          1130,
          1131,
          1132,
          1133,
          1134,
          1135,
          1136,
          1137,
          1138,
          1139,
          1140,
          1141,
          1142,
          1143,
          1144,
          1145,
          1146,
          1147,
          1148,
          1149,
          1150,
          1151,
          1152,
          1153,
          1154,
          1155,
          1156,
          1157,
          1158,
          1159,
          1160,
          1161,
          1162,
          1163,
          1164,
          1165,
          1166,
          1167,
          1168,
          1169,
          1170,
          1171,
          1172,
          1173,
          1174,
          1175,
          1176,
          1177,
          1178,
          1179,
          1180,
          1181,
          1182,
          1183,
          1184,
          1185,
          1186,
          1187,
          1188,
          1189,
          1190,
          1191,
          1192,
          1193,
          1194,
          1195,
          1196,
          1197,
          1198,
          1199,
          1200,
          1201,
          1202
         ],
         "xaxis": "x",
         "y": [
          72.3274995803833,
          72.60674953460693,
          72.85974941253663,
          73.10349941253662,
          73.28424949645996,
          73.37624950408936,
          73.46724948883056,
          73.58624954223635,
          73.7062496185303,
          73.79724960327148,
          73.8697494506836,
          73.89424934387208,
          73.86149940490724,
          73.83449954986573,
          73.77874965667725,
          73.6532497406006,
          73.56499977111817,
          73.62074985504152,
          73.75149993896486,
          73.90125007629393,
          74.08325023651123,
          74.27525024414062,
          74.44900035858154,
          74.56475048065187,
          74.65275058746339,
          74.75000076293946,
          74.84250068664552,
          74.90825061798095,
          74.9122507095337,
          74.89175071716309,
          74.85300083160402,
          74.78425102233888,
          74.67850112915039,
          74.4962511062622,
          74.25325107574463,
          73.9572509765625,
          73.6242509841919,
          73.2627510070801,
          72.90625095367432,
          72.53200092315674,
          72.12250080108642,
          71.72425079345703,
          71.3167507171631,
          70.88775062561035,
          70.46125049591065,
          70.04275035858154,
          69.60950050354005,
          69.2240005493164,
          68.92175045013428,
          68.62600040435792,
          68.32175025939941,
          68.03175010681153,
          67.75825004577638,
          67.59675006866455,
          67.52525005340576,
          67.43525009155272,
          67.35075016021729,
          67.26900024414063,
          67.15650024414064,
          67.0327501296997,
          66.92150020599365,
          66.8102502822876,
          66.70475025177002,
          66.63800010681153,
          66.59800014495849,
          66.57425022125246,
          66.59950008392336,
          66.6267499923706,
          66.60324993133544,
          66.52724990844726,
          66.34399995803832,
          66.10474996566774,
          65.8659998893738,
          65.53349981307983,
          65.16274986267089,
          64.88274993896484,
          64.64999990463257,
          64.3934998512268,
          64.09374990463256,
          63.8097499847412,
          63.500749874114994,
          63.16149978637695,
          62.853999900817875,
          62.55850009918213,
          62.297250080108654,
          62.057499980926515,
          61.77799997329712,
          61.4482500076294,
          61.20200004577637,
          61.09075002670289,
          61.074499988555914,
          61.10924997329712,
          61.1545000076294,
          61.23975009918213,
          61.30900011062623,
          61.34025001525879,
          61.371249961853025,
          61.42699995040893,
          61.5289999961853,
          61.637499999999996,
          61.77425003051757,
          61.9025001525879,
          61.97775020599365,
          62.079500198364265,
          62.18025026321411,
          62.28575029373169,
          62.44800033569336,
          62.65025043487548,
          62.80225048065185,
          62.8785005569458,
          62.9872507095337,
          63.12075080871582,
          63.257500743865975,
          63.39950056076051,
          63.540500545501715,
          63.68550071716309,
          63.85150079727173,
          64.01725082397462,
          64.15275077819825,
          64.28500080108644,
          64.38875093460084,
          64.4975009918213,
          64.64600105285645,
          64.72275104522704,
          64.72125101089478,
          64.70200109481812,
          64.63100109100343,
          64.50450105667115,
          64.32575101852417,
          64.15100088119507,
          63.97900075912476,
          63.796000671386714,
          63.62325067520142,
          63.41875076293945,
          63.21625080108643,
          63.01875066757202,
          62.766500568389894,
          62.48425054550171,
          62.219250488281254,
          61.990500450134284,
          61.784000396728516,
          61.57400035858154,
          61.35325031280518,
          61.17475032806397,
          61.07050037384033,
          61.004000377655025,
          61.01125040054321,
          61.085250377655036,
          61.22275037765503,
          61.384250450134275,
          61.53025045394897,
          61.66075038909913,
          61.762500381469735,
          61.86425037384034,
          61.94450025558472,
          62.0315001487732,
          62.154250144958496,
          62.26125020980835,
          62.32550029754639,
          62.342250251770025,
          62.34375009536744,
          62.354749965667736,
          62.347999858856205,
          62.31749973297121,
          62.27274961471559,
          62.229249572753915,
          62.17149963378906,
          62.06474971771241,
          61.93324975967407,
          61.77924976348878,
          61.58424978256227,
          61.3274998664856,
          61.032749938964855,
          60.7657500267029,
          60.512500095367436,
          60.23700017929079,
          59.93500022888184,
          59.63425016403199,
          59.34525012969971,
          59.078000164031984,
          58.828500270843506,
          58.60075035095215,
          58.423250389099124,
          58.290000438690186,
          58.17775049209596,
          58.021250534057614,
          57.83125047683716,
          57.732500362396244,
          57.66550025939942,
          57.58525018692017,
          57.56575021743774,
          57.613000297546385,
          57.63700027465819,
          57.61275024414063,
          57.62125034332275,
          57.62550039291383,
          57.61375036239625,
          57.598500347137445,
          57.62525033950806,
          57.71200037002563,
          57.819500350952154,
          57.918000316619874,
          57.98150033950805,
          57.98800039291382,
          57.965250396728514,
          57.96025028228759,
          57.94600019454957,
          57.94650020599366,
          57.99100027084351,
          58.14575033187866,
          58.37900028228759,
          58.60775012969971,
          58.90875005722046,
          59.269999980926514,
          59.58799982070923,
          59.871499729156504,
          60.175249671936044,
          60.46199960708619,
          60.674249553680426,
          60.83699951171876,
          61.00624952316286,
          61.182749557495114,
          61.34224948883057,
          61.53599939346314,
          61.71924934387207,
          61.86249933242798,
          62.012499427795404,
          62.084249496459954,
          62.0544994354248,
          61.90924940109253,
          61.739749431610115,
          61.66824951171875,
          61.623499584197994,
          61.55199966430664,
          61.487499809265145,
          61.454249858856215,
          61.43399982452392,
          61.44999980926514,
          61.48649978637695,
          61.555749797821036,
          61.57599983215332
         ],
         "yaxis": "y"
        }
       ],
       "layout": {
        "legend": {
         "title": {
          "text": "tipo"
         },
         "tracegroupgap": 0
        },
        "margin": {
         "t": 60
        },
        "template": {
         "data": {
          "bar": [
           {
            "error_x": {
             "color": "#2a3f5f"
            },
            "error_y": {
             "color": "#2a3f5f"
            },
            "marker": {
             "line": {
              "color": "#E5ECF6",
              "width": 0.5
             },
             "pattern": {
              "fillmode": "overlay",
              "size": 10,
              "solidity": 0.2
             }
            },
            "type": "bar"
           }
          ],
          "barpolar": [
           {
            "marker": {
             "line": {
              "color": "#E5ECF6",
              "width": 0.5
             },
             "pattern": {
              "fillmode": "overlay",
              "size": 10,
              "solidity": 0.2
             }
            },
            "type": "barpolar"
           }
          ],
          "carpet": [
           {
            "aaxis": {
             "endlinecolor": "#2a3f5f",
             "gridcolor": "white",
             "linecolor": "white",
             "minorgridcolor": "white",
             "startlinecolor": "#2a3f5f"
            },
            "baxis": {
             "endlinecolor": "#2a3f5f",
             "gridcolor": "white",
             "linecolor": "white",
             "minorgridcolor": "white",
             "startlinecolor": "#2a3f5f"
            },
            "type": "carpet"
           }
          ],
          "choropleth": [
           {
            "colorbar": {
             "outlinewidth": 0,
             "ticks": ""
            },
            "type": "choropleth"
           }
          ],
          "contour": [
           {
            "colorbar": {
             "outlinewidth": 0,
             "ticks": ""
            },
            "colorscale": [
             [
              0,
              "#0d0887"
             ],
             [
              0.1111111111111111,
              "#46039f"
             ],
             [
              0.2222222222222222,
              "#7201a8"
             ],
             [
              0.3333333333333333,
              "#9c179e"
             ],
             [
              0.4444444444444444,
              "#bd3786"
             ],
             [
              0.5555555555555556,
              "#d8576b"
             ],
             [
              0.6666666666666666,
              "#ed7953"
             ],
             [
              0.7777777777777778,
              "#fb9f3a"
             ],
             [
              0.8888888888888888,
              "#fdca26"
             ],
             [
              1,
              "#f0f921"
             ]
            ],
            "type": "contour"
           }
          ],
          "contourcarpet": [
           {
            "colorbar": {
             "outlinewidth": 0,
             "ticks": ""
            },
            "type": "contourcarpet"
           }
          ],
          "heatmap": [
           {
            "colorbar": {
             "outlinewidth": 0,
             "ticks": ""
            },
            "colorscale": [
             [
              0,
              "#0d0887"
             ],
             [
              0.1111111111111111,
              "#46039f"
             ],
             [
              0.2222222222222222,
              "#7201a8"
             ],
             [
              0.3333333333333333,
              "#9c179e"
             ],
             [
              0.4444444444444444,
              "#bd3786"
             ],
             [
              0.5555555555555556,
              "#d8576b"
             ],
             [
              0.6666666666666666,
              "#ed7953"
             ],
             [
              0.7777777777777778,
              "#fb9f3a"
             ],
             [
              0.8888888888888888,
              "#fdca26"
             ],
             [
              1,
              "#f0f921"
             ]
            ],
            "type": "heatmap"
           }
          ],
          "heatmapgl": [
           {
            "colorbar": {
             "outlinewidth": 0,
             "ticks": ""
            },
            "colorscale": [
             [
              0,
              "#0d0887"
             ],
             [
              0.1111111111111111,
              "#46039f"
             ],
             [
              0.2222222222222222,
              "#7201a8"
             ],
             [
              0.3333333333333333,
              "#9c179e"
             ],
             [
              0.4444444444444444,
              "#bd3786"
             ],
             [
              0.5555555555555556,
              "#d8576b"
             ],
             [
              0.6666666666666666,
              "#ed7953"
             ],
             [
              0.7777777777777778,
              "#fb9f3a"
             ],
             [
              0.8888888888888888,
              "#fdca26"
             ],
             [
              1,
              "#f0f921"
             ]
            ],
            "type": "heatmapgl"
           }
          ],
          "histogram": [
           {
            "marker": {
             "pattern": {
              "fillmode": "overlay",
              "size": 10,
              "solidity": 0.2
             }
            },
            "type": "histogram"
           }
          ],
          "histogram2d": [
           {
            "colorbar": {
             "outlinewidth": 0,
             "ticks": ""
            },
            "colorscale": [
             [
              0,
              "#0d0887"
             ],
             [
              0.1111111111111111,
              "#46039f"
             ],
             [
              0.2222222222222222,
              "#7201a8"
             ],
             [
              0.3333333333333333,
              "#9c179e"
             ],
             [
              0.4444444444444444,
              "#bd3786"
             ],
             [
              0.5555555555555556,
              "#d8576b"
             ],
             [
              0.6666666666666666,
              "#ed7953"
             ],
             [
              0.7777777777777778,
              "#fb9f3a"
             ],
             [
              0.8888888888888888,
              "#fdca26"
             ],
             [
              1,
              "#f0f921"
             ]
            ],
            "type": "histogram2d"
           }
          ],
          "histogram2dcontour": [
           {
            "colorbar": {
             "outlinewidth": 0,
             "ticks": ""
            },
            "colorscale": [
             [
              0,
              "#0d0887"
             ],
             [
              0.1111111111111111,
              "#46039f"
             ],
             [
              0.2222222222222222,
              "#7201a8"
             ],
             [
              0.3333333333333333,
              "#9c179e"
             ],
             [
              0.4444444444444444,
              "#bd3786"
             ],
             [
              0.5555555555555556,
              "#d8576b"
             ],
             [
              0.6666666666666666,
              "#ed7953"
             ],
             [
              0.7777777777777778,
              "#fb9f3a"
             ],
             [
              0.8888888888888888,
              "#fdca26"
             ],
             [
              1,
              "#f0f921"
             ]
            ],
            "type": "histogram2dcontour"
           }
          ],
          "mesh3d": [
           {
            "colorbar": {
             "outlinewidth": 0,
             "ticks": ""
            },
            "type": "mesh3d"
           }
          ],
          "parcoords": [
           {
            "line": {
             "colorbar": {
              "outlinewidth": 0,
              "ticks": ""
             }
            },
            "type": "parcoords"
           }
          ],
          "pie": [
           {
            "automargin": true,
            "type": "pie"
           }
          ],
          "scatter": [
           {
            "fillpattern": {
             "fillmode": "overlay",
             "size": 10,
             "solidity": 0.2
            },
            "type": "scatter"
           }
          ],
          "scatter3d": [
           {
            "line": {
             "colorbar": {
              "outlinewidth": 0,
              "ticks": ""
             }
            },
            "marker": {
             "colorbar": {
              "outlinewidth": 0,
              "ticks": ""
             }
            },
            "type": "scatter3d"
           }
          ],
          "scattercarpet": [
           {
            "marker": {
             "colorbar": {
              "outlinewidth": 0,
              "ticks": ""
             }
            },
            "type": "scattercarpet"
           }
          ],
          "scattergeo": [
           {
            "marker": {
             "colorbar": {
              "outlinewidth": 0,
              "ticks": ""
             }
            },
            "type": "scattergeo"
           }
          ],
          "scattergl": [
           {
            "marker": {
             "colorbar": {
              "outlinewidth": 0,
              "ticks": ""
             }
            },
            "type": "scattergl"
           }
          ],
          "scattermapbox": [
           {
            "marker": {
             "colorbar": {
              "outlinewidth": 0,
              "ticks": ""
             }
            },
            "type": "scattermapbox"
           }
          ],
          "scatterpolar": [
           {
            "marker": {
             "colorbar": {
              "outlinewidth": 0,
              "ticks": ""
             }
            },
            "type": "scatterpolar"
           }
          ],
          "scatterpolargl": [
           {
            "marker": {
             "colorbar": {
              "outlinewidth": 0,
              "ticks": ""
             }
            },
            "type": "scatterpolargl"
           }
          ],
          "scatterternary": [
           {
            "marker": {
             "colorbar": {
              "outlinewidth": 0,
              "ticks": ""
             }
            },
            "type": "scatterternary"
           }
          ],
          "surface": [
           {
            "colorbar": {
             "outlinewidth": 0,
             "ticks": ""
            },
            "colorscale": [
             [
              0,
              "#0d0887"
             ],
             [
              0.1111111111111111,
              "#46039f"
             ],
             [
              0.2222222222222222,
              "#7201a8"
             ],
             [
              0.3333333333333333,
              "#9c179e"
             ],
             [
              0.4444444444444444,
              "#bd3786"
             ],
             [
              0.5555555555555556,
              "#d8576b"
             ],
             [
              0.6666666666666666,
              "#ed7953"
             ],
             [
              0.7777777777777778,
              "#fb9f3a"
             ],
             [
              0.8888888888888888,
              "#fdca26"
             ],
             [
              1,
              "#f0f921"
             ]
            ],
            "type": "surface"
           }
          ],
          "table": [
           {
            "cells": {
             "fill": {
              "color": "#EBF0F8"
             },
             "line": {
              "color": "white"
             }
            },
            "header": {
             "fill": {
              "color": "#C8D4E3"
             },
             "line": {
              "color": "white"
             }
            },
            "type": "table"
           }
          ]
         },
         "layout": {
          "annotationdefaults": {
           "arrowcolor": "#2a3f5f",
           "arrowhead": 0,
           "arrowwidth": 1
          },
          "autotypenumbers": "strict",
          "coloraxis": {
           "colorbar": {
            "outlinewidth": 0,
            "ticks": ""
           }
          },
          "colorscale": {
           "diverging": [
            [
             0,
             "#8e0152"
            ],
            [
             0.1,
             "#c51b7d"
            ],
            [
             0.2,
             "#de77ae"
            ],
            [
             0.3,
             "#f1b6da"
            ],
            [
             0.4,
             "#fde0ef"
            ],
            [
             0.5,
             "#f7f7f7"
            ],
            [
             0.6,
             "#e6f5d0"
            ],
            [
             0.7,
             "#b8e186"
            ],
            [
             0.8,
             "#7fbc41"
            ],
            [
             0.9,
             "#4d9221"
            ],
            [
             1,
             "#276419"
            ]
           ],
           "sequential": [
            [
             0,
             "#0d0887"
            ],
            [
             0.1111111111111111,
             "#46039f"
            ],
            [
             0.2222222222222222,
             "#7201a8"
            ],
            [
             0.3333333333333333,
             "#9c179e"
            ],
            [
             0.4444444444444444,
             "#bd3786"
            ],
            [
             0.5555555555555556,
             "#d8576b"
            ],
            [
             0.6666666666666666,
             "#ed7953"
            ],
            [
             0.7777777777777778,
             "#fb9f3a"
            ],
            [
             0.8888888888888888,
             "#fdca26"
            ],
            [
             1,
             "#f0f921"
            ]
           ],
           "sequentialminus": [
            [
             0,
             "#0d0887"
            ],
            [
             0.1111111111111111,
             "#46039f"
            ],
            [
             0.2222222222222222,
             "#7201a8"
            ],
            [
             0.3333333333333333,
             "#9c179e"
            ],
            [
             0.4444444444444444,
             "#bd3786"
            ],
            [
             0.5555555555555556,
             "#d8576b"
            ],
            [
             0.6666666666666666,
             "#ed7953"
            ],
            [
             0.7777777777777778,
             "#fb9f3a"
            ],
            [
             0.8888888888888888,
             "#fdca26"
            ],
            [
             1,
             "#f0f921"
            ]
           ]
          },
          "colorway": [
           "#636efa",
           "#EF553B",
           "#00cc96",
           "#ab63fa",
           "#FFA15A",
           "#19d3f3",
           "#FF6692",
           "#B6E880",
           "#FF97FF",
           "#FECB52"
          ],
          "font": {
           "color": "#2a3f5f"
          },
          "geo": {
           "bgcolor": "white",
           "lakecolor": "white",
           "landcolor": "#E5ECF6",
           "showlakes": true,
           "showland": true,
           "subunitcolor": "white"
          },
          "hoverlabel": {
           "align": "left"
          },
          "hovermode": "closest",
          "mapbox": {
           "style": "light"
          },
          "paper_bgcolor": "white",
          "plot_bgcolor": "#E5ECF6",
          "polar": {
           "angularaxis": {
            "gridcolor": "white",
            "linecolor": "white",
            "ticks": ""
           },
           "bgcolor": "#E5ECF6",
           "radialaxis": {
            "gridcolor": "white",
            "linecolor": "white",
            "ticks": ""
           }
          },
          "scene": {
           "xaxis": {
            "backgroundcolor": "#E5ECF6",
            "gridcolor": "white",
            "gridwidth": 2,
            "linecolor": "white",
            "showbackground": true,
            "ticks": "",
            "zerolinecolor": "white"
           },
           "yaxis": {
            "backgroundcolor": "#E5ECF6",
            "gridcolor": "white",
            "gridwidth": 2,
            "linecolor": "white",
            "showbackground": true,
            "ticks": "",
            "zerolinecolor": "white"
           },
           "zaxis": {
            "backgroundcolor": "#E5ECF6",
            "gridcolor": "white",
            "gridwidth": 2,
            "linecolor": "white",
            "showbackground": true,
            "ticks": "",
            "zerolinecolor": "white"
           }
          },
          "shapedefaults": {
           "line": {
            "color": "#2a3f5f"
           }
          },
          "ternary": {
           "aaxis": {
            "gridcolor": "white",
            "linecolor": "white",
            "ticks": ""
           },
           "baxis": {
            "gridcolor": "white",
            "linecolor": "white",
            "ticks": ""
           },
           "bgcolor": "#E5ECF6",
           "caxis": {
            "gridcolor": "white",
            "linecolor": "white",
            "ticks": ""
           }
          },
          "title": {
           "x": 0.05
          },
          "xaxis": {
           "automargin": true,
           "gridcolor": "white",
           "linecolor": "white",
           "ticks": "",
           "title": {
            "standoff": 15
           },
           "zerolinecolor": "white",
           "zerolinewidth": 2
          },
          "yaxis": {
           "automargin": true,
           "gridcolor": "white",
           "linecolor": "white",
           "ticks": "",
           "title": {
            "standoff": 15
           },
           "zerolinecolor": "white",
           "zerolinewidth": 2
          }
         }
        },
        "title": {
         "automargin": true,
         "font": {
          "size": 50
         },
         "text": "Split treino X teste",
         "yref": "paper"
        },
        "xaxis": {
         "anchor": "y",
         "domain": [
          0,
          1
         ],
         "title": {
          "text": "Índice"
         }
        },
        "yaxis": {
         "anchor": "x",
         "domain": [
          0,
          1
         ],
         "title": {
          "text": "Valor de Fechamento"
         }
        }
       }
      }
     },
     "metadata": {},
     "output_type": "display_data"
    }
   ],
   "source": [
    "\n",
    "dtr_plot = pd.DataFrame({'tomorrow':y_train})\n",
    "dte_plot = pd.DataFrame({'tomorrow':y_test})\n",
    "dtr_plot['tipo'] = 'treino'\n",
    "dte_plot['tipo'] = 'teste'\n",
    "\n",
    "# Adicionar índices sequenciais\n",
    "dtr_plot['index'] = range(len(dtr_plot))\n",
    "dte_plot['index'] = range(len(dtr_plot), len(dtr_plot) + len(dte_plot))\n",
    "\n",
    "# Concatenar os DataFrames\n",
    "dados_concat = pd.concat([dtr_plot, dte_plot])\n",
    "\n",
    "# Criar o gráfico\n",
    "fig = px.line(dados_concat, x='index', y='tomorrow', color='tipo')\n",
    "\n",
    "# Atualizar o layout do gráfico\n",
    "fig.update_layout(\n",
    "    title=dict(text=\"Split treino X teste\", font=dict(size=50), automargin=True, yref='paper'),\n",
    "    xaxis_title='Índice',\n",
    "    yaxis_title='Valor de Fechamento'\n",
    ")\n",
    "\n",
    "# Exibir o gráfico\n",
    "fig.show()"
   ]
  },
  {
   "cell_type": "code",
   "execution_count": 599,
   "metadata": {},
   "outputs": [],
   "source": [
    "#GridSearchCV\n",
    "\n",
    "## {'max_depth': 5, 'min_samples_leaf': 4, 'min_samples_split': 2, 'n_estimators': 200}\n",
    "#\n",
    "## Definindo os parâmetros a serem testados\n",
    "#param_grid = {\n",
    "#     'n_estimators': [100, 200, 300],\n",
    "#     'max_depth': [None, 5, 10],\n",
    "#     'min_samples_split': [2, 5, 10],\n",
    "#     'min_samples_leaf': [1, 2, 4]\n",
    "#}\n",
    "#\n",
    "## Criando o objeto GridSearchCV\n",
    "#grid_search = GridSearchCV(estimator=RandomForestRegressor(random_state=42),\n",
    "#                            param_grid=param_grid,\n",
    "#                            cv=5,\n",
    "#                            n_jobs=-1)\n",
    "#\n",
    "##Realizando a busca\n",
    "#grid_search.fit(X_train, y_train)\n",
    "#\n",
    "## Obtendo os melhores parâmetros\n",
    "#melhores_parametros = grid_search.best_params_\n",
    "#melhores_parametros"
   ]
  },
  {
   "cell_type": "code",
   "execution_count": 600,
   "metadata": {},
   "outputs": [],
   "source": [
    "melhores_parametros = {\n",
    "'max_depth': 5,\n",
    " 'min_samples_leaf': 4,\n",
    " 'min_samples_split': 2,\n",
    " 'n_estimators': 300,\n",
    " 'max_features': 'log2'\n",
    "}\n",
    "\n",
    "modelo_random_forest = RandomForestRegressor(**melhores_parametros)"
   ]
  },
  {
   "cell_type": "code",
   "execution_count": 601,
   "metadata": {},
   "outputs": [],
   "source": [
    "X_train = X_train.reshape(X_train.shape[0], -1)\n",
    "X_test = X_test.reshape(X_test.shape[0], -1)\n",
    "\n",
    "# Treina o modelo_random_forest\n",
    "modelo_random_forest.fit(X_train, y_train)\n",
    "# Faz previsões no conjunto de teste\n",
    "y_pred = modelo_random_forest.predict(X_test)\n"
   ]
  },
  {
   "cell_type": "code",
   "execution_count": 602,
   "metadata": {},
   "outputs": [
    {
     "data": {
      "image/png": "[encoded data removed]",
      "text/plain": [
       "<Figure size 1200x600 with 1 Axes>"
      ]
     },
     "metadata": {},
     "output_type": "display_data"
    }
   ],
   "source": [
    "import matplotlib.pyplot as plt\n",
    "\n",
    "\n",
    "# Assumindo que X_train[:, -1] contém os últimos valores usados para a primeira previsão\n",
    "primeira_previsao = len(y_train) + 1  # Índice da primeira previsão\n",
    "\n",
    "# Criando um array com os valores reais e as previsões\n",
    "dados_plot = np.concatenate([dados['Close'][primeira_previsao-len(X_train[:, -1]):primeira_previsao], y_pred])\n",
    "tempo = np.arange(primeira_previsao-len(X_train[:, -1]), primeira_previsao+len(y_pred))\n",
    "\n",
    "# Calculando a regressão linear\n",
    "coefs = np.polyfit(tempo, dados_plot, 1)  # Ajusta uma reta (grau 1)\n",
    "\n",
    "# Criando a linha de tendência\n",
    "poly1d_fn = np.poly1d(coefs)\n",
    "\n",
    "# Plotando os dados\n",
    "plt.figure(figsize=(12, 6))\n",
    "plt.plot(tempo, dados_plot, label='Dados')\n",
    "plt.plot(tempo[len(X_train[:, -1]):], y_pred, label='Previsões', color='red')\n",
    "plt.plot(tempo, poly1d_fn(tempo), '--k', label='Tendência Linear')\n",
    "plt.title(\"Comparação entre Dados e Previsões com Tendência Linear\")\n",
    "plt.legend()\n",
    "plt.xlabel('Tempo')\n",
    "plt.ylabel('Valor')\n",
    "plt.show()"
   ]
  },
  {
   "cell_type": "code",
   "execution_count": 603,
   "metadata": {},
   "outputs": [
    {
     "data": {
      "image/png": "[encoded data removed]",
      "text/plain": [
       "<Figure size 1200x600 with 1 Axes>"
      ]
     },
     "metadata": {},
     "output_type": "display_data"
    }
   ],
   "source": [
    "# Visualização das previsões\n",
    "plt.figure(figsize=(12, 6))\n",
    "plt.plot(y_test, label='Dados de Teste', color='green')\n",
    "plt.plot(y_pred, color='red', linestyle='--', label='Previsões')\n",
    "plt.title(\"Comparação entre Dados de teste e Previsões\")\n",
    "plt.legend()\n",
    "plt.show()"
   ]
  },
  {
   "cell_type": "code",
   "execution_count": 604,
   "metadata": {},
   "outputs": [
    {
     "data": {
      "text/plain": [
       "{'MSE': 2.8227997745426747,\n",
       " 'MAE': 1.3335772561109758,\n",
       " 'RMSE': 1.680118976305748,\n",
       " 'R2': 0.8939131791995798}"
      ]
     },
     "execution_count": 604,
     "metadata": {},
     "output_type": "execute_result"
    }
   ],
   "source": [
    "# Avaliação do modelo_random_forest aquiii\n",
    "evaluate_model(y_test, y_pred)"
   ]
  },
  {
   "cell_type": "code",
   "execution_count": 605,
   "metadata": {},
   "outputs": [
    {
     "data": {
      "image/png": "[encoded data removed]",
      "text/plain": [
       "<Figure size 1400x500 with 1 Axes>"
      ]
     },
     "metadata": {},
     "output_type": "display_data"
    }
   ],
   "source": [
    "index_train = dados.index[:len(dados) - len(y_test)]\n",
    "index_test = dados.index[len(dados) - len(y_test):]\n",
    "\n",
    "# Valores reais de treino e teste\n",
    "train_values = dados[target][:len(dados) - len(y_test)]\n",
    "test_values = dados[target][len(dados) - len(y_test):]\n",
    "\n",
    "# Plotando o gráfico\n",
    "plt.figure(figsize=(14, 5))\n",
    "\n",
    "# Plotando os valores reais de treino\n",
    "plt.plot(index_train[-300:], train_values[-300:], label='Dados de Treino')\n",
    "\n",
    "# Plotando os valores reais de teste\n",
    "plt.plot(index_test[-300:], test_values[-300:], label='Dados de Teste')\n",
    "\n",
    "# Plotando as previsões\n",
    "plt.plot(index_test[-300:], y_pred[-300:], linestyle='--', label='Previsões')\n",
    "\n",
    "plt.title('Dados de Treino, Dados de Teste e Previsões')\n",
    "plt.xlabel('Data')\n",
    "plt.ylabel('Valor de Fechamento')\n",
    "plt.legend(loc='best')\n",
    "plt.show()"
   ]
  },
  {
   "cell_type": "code",
   "execution_count": 606,
   "metadata": {},
   "outputs": [],
   "source": [
    "dados_forward = dados.copy()\n",
    "last_pred = y_pred[-1]\n",
    "feed_preds = []\n",
    "\n",
    "\n",
    "for d in range(days_to_predict):\n",
    "    dados_forward = increment_data_df(dados_forward, last_pred, d)\n",
    "    X_fwd, y_fwd, X_train_fwd, X_test_fwd, y_train_fwd, y_test_fwd = split_X_y(dados_forward)\n",
    "    X_fwd = X_fwd.reshape(X_fwd.shape[0], -1)\n",
    "\n",
    "    last_pred = modelo_random_forest.predict(X_fwd[-n_past:-1])[-1]\n",
    "\n",
    "    dados_forward.loc[dados_forward.index[-1], 'tomorrow'] = last_pred\n",
    "    feed_preds.append(last_pred)"
   ]
  },
  {
   "cell_type": "code",
   "execution_count": 607,
   "metadata": {},
   "outputs": [
    {
     "data": {
      "application/vnd.plotly.v1+json": {
       "config": {
        "plotlyServerURL": "https://plot.ly"
       },
       "data": [
        {
         "mode": "lines",
         "name": "Dados Anteriores",
         "type": "scatter",
         "x": [
          "2024-03-05T00:00:00",
          "2024-03-06T00:00:00",
          "2024-03-07T00:00:00",
          "2024-03-08T00:00:00",
          "2024-03-11T00:00:00",
          "2024-03-12T00:00:00",
          "2024-03-13T00:00:00",
          "2024-03-14T00:00:00",
          "2024-03-15T00:00:00",
          "2024-03-18T00:00:00",
          "2024-03-19T00:00:00",
          "2024-03-20T00:00:00",
          "2024-03-21T00:00:00",
          "2024-03-22T00:00:00",
          "2024-03-25T00:00:00",
          "2024-03-26T00:00:00",
          "2024-03-27T00:00:00",
          "2024-03-28T00:00:00",
          "2024-04-01T00:00:00",
          "2024-04-02T00:00:00",
          "2024-04-03T00:00:00",
          "2024-04-04T00:00:00",
          "2024-04-05T00:00:00",
          "2024-04-08T00:00:00",
          "2024-04-09T00:00:00",
          "2024-04-10T00:00:00",
          "2024-04-11T00:00:00",
          "2024-04-12T00:00:00",
          "2024-04-15T00:00:00",
          "2024-04-16T00:00:00",
          "2024-04-17T00:00:00",
          "2024-04-18T00:00:00",
          "2024-04-19T00:00:00",
          "2024-04-22T00:00:00",
          "2024-04-23T00:00:00",
          "2024-04-24T00:00:00",
          "2024-04-25T00:00:00",
          "2024-04-26T00:00:00",
          "2024-04-29T00:00:00",
          "2024-04-30T00:00:00",
          "2024-05-02T00:00:00",
          "2024-05-03T00:00:00",
          "2024-05-06T00:00:00",
          "2024-05-07T00:00:00",
          "2024-05-08T00:00:00",
          "2024-05-09T00:00:00",
          "2024-05-10T00:00:00",
          "2024-05-13T00:00:00",
          "2024-05-14T00:00:00",
          "2024-05-15T00:00:00",
          "2024-05-16T00:00:00",
          "2024-05-17T00:00:00",
          "2024-05-20T00:00:00",
          "2024-05-21T00:00:00",
          "2024-05-22T00:00:00",
          "2024-05-23T00:00:00",
          "2024-05-24T00:00:00",
          "2024-05-27T00:00:00",
          "2024-05-28T00:00:00",
          "2024-05-29T00:00:00",
          "2024-05-31T00:00:00",
          "2024-06-03T00:00:00",
          "2024-06-04T00:00:00",
          "2024-06-05T00:00:00",
          "2024-06-06T00:00:00",
          "2024-06-07T00:00:00",
          "2024-06-10T00:00:00",
          "2024-06-11T00:00:00",
          "2024-06-12T00:00:00",
          "2024-06-13T00:00:00",
          "2024-06-14T00:00:00",
          "2024-06-17T00:00:00",
          "2024-06-18T00:00:00",
          "2024-06-19T00:00:00",
          "2024-06-20T00:00:00",
          "2024-06-21T00:00:00",
          "2024-06-24T00:00:00",
          "2024-06-25T00:00:00",
          "2024-06-26T00:00:00",
          "2024-06-27T00:00:00",
          "2024-06-28T00:00:00",
          "2024-07-01T00:00:00",
          "2024-07-02T00:00:00",
          "2024-07-03T00:00:00",
          "2024-07-04T00:00:00",
          "2024-07-05T00:00:00",
          "2024-07-08T00:00:00",
          "2024-07-09T00:00:00",
          "2024-07-10T00:00:00",
          "2024-07-11T00:00:00",
          "2024-07-12T00:00:00",
          "2024-07-15T00:00:00",
          "2024-07-16T00:00:00",
          "2024-07-17T00:00:00",
          "2024-07-18T00:00:00",
          "2024-07-19T00:00:00",
          "2024-07-22T00:00:00",
          "2024-07-23T00:00:00",
          "2024-07-24T00:00:00",
          "2024-07-25T00:00:00",
          "2024-07-26T00:00:00",
          "2024-07-29T00:00:00",
          "2024-07-30T00:00:00",
          "2024-07-31T00:00:00",
          "2024-08-01T00:00:00",
          "2024-08-02T00:00:00",
          "2024-08-05T00:00:00",
          "2024-08-06T00:00:00",
          "2024-08-07T00:00:00",
          "2024-08-08T00:00:00",
          "2024-08-09T00:00:00",
          "2024-08-12T00:00:00",
          "2024-08-13T00:00:00",
          "2024-08-14T00:00:00",
          "2024-08-15T00:00:00",
          "2024-08-16T00:00:00",
          "2024-08-19T00:00:00",
          "2024-08-20T00:00:00",
          "2024-08-21T00:00:00",
          "2024-08-22T00:00:00",
          "2024-08-23T00:00:00",
          "2024-08-26T00:00:00",
          "2024-08-27T00:00:00",
          "2024-08-28T00:00:00",
          "2024-08-29T00:00:00",
          "2024-08-30T00:00:00",
          "2024-09-02T00:00:00",
          "2024-09-03T00:00:00",
          "2024-09-04T00:00:00",
          "2024-09-05T00:00:00",
          "2024-09-06T00:00:00",
          "2024-09-09T00:00:00",
          "2024-09-10T00:00:00",
          "2024-09-11T00:00:00",
          "2024-09-12T00:00:00",
          "2024-09-13T00:00:00",
          "2024-09-16T00:00:00",
          "2024-09-17T00:00:00",
          "2024-09-18T00:00:00",
          "2024-09-19T00:00:00",
          "2024-09-20T00:00:00",
          "2024-09-23T00:00:00",
          "2024-09-24T00:00:00",
          "2024-09-25T00:00:00",
          "2024-09-26T00:00:00",
          "2024-09-27T00:00:00",
          "2024-09-30T00:00:00",
          "2024-10-01T00:00:00",
          "2024-10-02T00:00:00",
          "2024-10-03T00:00:00",
          "2024-10-04T00:00:00",
          "2024-10-07T00:00:00",
          "2024-10-08T00:00:00",
          "2024-10-09T00:00:00",
          "2024-10-10T00:00:00",
          "2024-10-11T00:00:00",
          "2024-10-14T00:00:00",
          "2024-10-15T00:00:00",
          "2024-10-16T00:00:00",
          "2024-10-17T00:00:00",
          "2024-10-18T00:00:00",
          "2024-10-21T00:00:00",
          "2024-10-22T00:00:00",
          "2024-10-23T00:00:00",
          "2024-10-24T00:00:00",
          "2024-10-25T00:00:00",
          "2024-10-28T00:00:00",
          "2024-10-29T00:00:00",
          "2024-10-30T00:00:00",
          "2024-10-31T00:00:00",
          "2024-11-01T00:00:00",
          "2024-11-04T00:00:00",
          "2024-11-05T00:00:00",
          "2024-11-06T00:00:00",
          "2024-11-07T00:00:00"
         ],
         "y": [
          66.59950008392336,
          66.6267499923706,
          66.60324993133544,
          66.52724990844726,
          66.34399995803832,
          66.10474996566774,
          65.8659998893738,
          65.53349981307983,
          65.16274986267089,
          64.88274993896484,
          64.64999990463257,
          64.3934998512268,
          64.09374990463256,
          63.8097499847412,
          63.500749874114994,
          63.16149978637695,
          62.853999900817875,
          62.55850009918213,
          62.297250080108654,
          62.057499980926515,
          61.77799997329712,
          61.4482500076294,
          61.20200004577637,
          61.09075002670289,
          61.074499988555914,
          61.10924997329712,
          61.1545000076294,
          61.23975009918213,
          61.30900011062623,
          61.34025001525879,
          61.371249961853025,
          61.42699995040893,
          61.5289999961853,
          61.637499999999996,
          61.77425003051757,
          61.9025001525879,
          61.97775020599365,
          62.079500198364265,
          62.18025026321411,
          62.28575029373169,
          62.44800033569336,
          62.65025043487548,
          62.80225048065185,
          62.8785005569458,
          62.9872507095337,
          63.12075080871582,
          63.257500743865975,
          63.39950056076051,
          63.540500545501715,
          63.68550071716309,
          63.85150079727173,
          64.01725082397462,
          64.15275077819825,
          64.28500080108644,
          64.38875093460084,
          64.4975009918213,
          64.64600105285645,
          64.72275104522704,
          64.72125101089478,
          64.70200109481812,
          64.63100109100343,
          64.50450105667115,
          64.32575101852417,
          64.15100088119507,
          63.97900075912476,
          63.796000671386714,
          63.62325067520142,
          63.41875076293945,
          63.21625080108643,
          63.01875066757202,
          62.766500568389894,
          62.48425054550171,
          62.219250488281254,
          61.990500450134284,
          61.784000396728516,
          61.57400035858154,
          61.35325031280518,
          61.17475032806397,
          61.07050037384033,
          61.004000377655025,
          61.01125040054321,
          61.085250377655036,
          61.22275037765503,
          61.384250450134275,
          61.53025045394897,
          61.66075038909913,
          61.762500381469735,
          61.86425037384034,
          61.94450025558472,
          62.0315001487732,
          62.154250144958496,
          62.26125020980835,
          62.32550029754639,
          62.342250251770025,
          62.34375009536744,
          62.354749965667736,
          62.347999858856205,
          62.31749973297121,
          62.27274961471559,
          62.229249572753915,
          62.17149963378906,
          62.06474971771241,
          61.93324975967407,
          61.77924976348878,
          61.58424978256227,
          61.3274998664856,
          61.032749938964855,
          60.7657500267029,
          60.512500095367436,
          60.23700017929079,
          59.93500022888184,
          59.63425016403199,
          59.34525012969971,
          59.078000164031984,
          58.828500270843506,
          58.60075035095215,
          58.423250389099124,
          58.290000438690186,
          58.17775049209596,
          58.021250534057614,
          57.83125047683716,
          57.732500362396244,
          57.66550025939942,
          57.58525018692017,
          57.56575021743774,
          57.613000297546385,
          57.63700027465819,
          57.61275024414063,
          57.62125034332275,
          57.62550039291383,
          57.61375036239625,
          57.598500347137445,
          57.62525033950806,
          57.71200037002563,
          57.819500350952154,
          57.918000316619874,
          57.98150033950805,
          57.98800039291382,
          57.965250396728514,
          57.96025028228759,
          57.94600019454957,
          57.94650020599366,
          57.99100027084351,
          58.14575033187866,
          58.37900028228759,
          58.60775012969971,
          58.90875005722046,
          59.269999980926514,
          59.58799982070923,
          59.871499729156504,
          60.175249671936044,
          60.46199960708619,
          60.674249553680426,
          60.83699951171876,
          61.00624952316286,
          61.182749557495114,
          61.34224948883057,
          61.53599939346314,
          61.71924934387207,
          61.86249933242798,
          62.012499427795404,
          62.084249496459954,
          62.0544994354248,
          61.90924940109253,
          61.739749431610115,
          61.66824951171875,
          61.623499584197994,
          61.55199966430664,
          61.487499809265145,
          61.454249858856215,
          61.43399982452392,
          61.44999980926514,
          61.48649978637695,
          61.555749797821036,
          61.57599983215332
         ]
        },
        {
         "mode": "lines",
         "name": "Previsões",
         "type": "scatter",
         "x": [
          "2024-11-07T00:00:00",
          "2024-11-08T00:00:00",
          "2024-11-11T00:00:00",
          "2024-11-12T00:00:00",
          "2024-11-13T00:00:00",
          "2024-11-14T00:00:00",
          "2024-11-15T00:00:00",
          "2024-11-18T00:00:00",
          "2024-11-19T00:00:00",
          "2024-11-20T00:00:00",
          "2024-11-21T00:00:00",
          "2024-11-22T00:00:00",
          "2024-11-25T00:00:00",
          "2024-11-26T00:00:00",
          "2024-11-27T00:00:00",
          "2024-11-28T00:00:00",
          "2024-11-29T00:00:00",
          "2024-12-02T00:00:00",
          "2024-12-03T00:00:00",
          "2024-12-04T00:00:00",
          "2024-12-05T00:00:00",
          "2024-12-06T00:00:00",
          "2024-12-09T00:00:00",
          "2024-12-10T00:00:00",
          "2024-12-11T00:00:00",
          "2024-12-12T00:00:00",
          "2024-12-13T00:00:00",
          "2024-12-16T00:00:00",
          "2024-12-17T00:00:00",
          "2024-12-18T00:00:00",
          "2024-12-19T00:00:00",
          "2024-12-20T00:00:00",
          "2024-12-23T00:00:00",
          "2024-12-24T00:00:00",
          "2024-12-25T00:00:00",
          "2024-12-26T00:00:00"
         ],
         "y": [
          61.57599983215332,
          61.913312668289535,
          62.012350663653805,
          61.95790175923832,
          61.9838564644012,
          62.10997144321204,
          62.12991476224313,
          62.24820277996133,
          62.13600839379869,
          62.2853826122988,
          62.321633684313106,
          62.360988044077885,
          62.462797727468676,
          62.54104442989755,
          62.63966303913483,
          62.78978292234218,
          62.98576827533395,
          63.15677200019791,
          63.357774257031245,
          63.56433409302957,
          63.72172571364285,
          63.98022595874836,
          64.23937622836752,
          64.35894011383917,
          64.4768103448638,
          64.59050096174475,
          64.82230972740882,
          65.17154293129984,
          65.6704663824346,
          66.03668173141249,
          66.50114233846998,
          66.92828354549073,
          67.07231642509424,
          67.09337370125178,
          67.19796231859834,
          67.2048132680913
         ]
        }
       ],
       "layout": {
        "height": 600,
        "legend": {
         "title": {
          "text": "Legenda"
         }
        },
        "template": {
         "data": {
          "bar": [
           {
            "error_x": {
             "color": "#2a3f5f"
            },
            "error_y": {
             "color": "#2a3f5f"
            },
            "marker": {
             "line": {
              "color": "#E5ECF6",
              "width": 0.5
             },
             "pattern": {
              "fillmode": "overlay",
              "size": 10,
              "solidity": 0.2
             }
            },
            "type": "bar"
           }
          ],
          "barpolar": [
           {
            "marker": {
             "line": {
              "color": "#E5ECF6",
              "width": 0.5
             },
             "pattern": {
              "fillmode": "overlay",
              "size": 10,
              "solidity": 0.2
             }
            },
            "type": "barpolar"
           }
          ],
          "carpet": [
           {
            "aaxis": {
             "endlinecolor": "#2a3f5f",
             "gridcolor": "white",
             "linecolor": "white",
             "minorgridcolor": "white",
             "startlinecolor": "#2a3f5f"
            },
            "baxis": {
             "endlinecolor": "#2a3f5f",
             "gridcolor": "white",
             "linecolor": "white",
             "minorgridcolor": "white",
             "startlinecolor": "#2a3f5f"
            },
            "type": "carpet"
           }
          ],
          "choropleth": [
           {
            "colorbar": {
             "outlinewidth": 0,
             "ticks": ""
            },
            "type": "choropleth"
           }
          ],
          "contour": [
           {
            "colorbar": {
             "outlinewidth": 0,
             "ticks": ""
            },
            "colorscale": [
             [
              0,
              "#0d0887"
             ],
             [
              0.1111111111111111,
              "#46039f"
             ],
             [
              0.2222222222222222,
              "#7201a8"
             ],
             [
              0.3333333333333333,
              "#9c179e"
             ],
             [
              0.4444444444444444,
              "#bd3786"
             ],
             [
              0.5555555555555556,
              "#d8576b"
             ],
             [
              0.6666666666666666,
              "#ed7953"
             ],
             [
              0.7777777777777778,
              "#fb9f3a"
             ],
             [
              0.8888888888888888,
              "#fdca26"
             ],
             [
              1,
              "#f0f921"
             ]
            ],
            "type": "contour"
           }
          ],
          "contourcarpet": [
           {
            "colorbar": {
             "outlinewidth": 0,
             "ticks": ""
            },
            "type": "contourcarpet"
           }
          ],
          "heatmap": [
           {
            "colorbar": {
             "outlinewidth": 0,
             "ticks": ""
            },
            "colorscale": [
             [
              0,
              "#0d0887"
             ],
             [
              0.1111111111111111,
              "#46039f"
             ],
             [
              0.2222222222222222,
              "#7201a8"
             ],
             [
              0.3333333333333333,
              "#9c179e"
             ],
             [
              0.4444444444444444,
              "#bd3786"
             ],
             [
              0.5555555555555556,
              "#d8576b"
             ],
             [
              0.6666666666666666,
              "#ed7953"
             ],
             [
              0.7777777777777778,
              "#fb9f3a"
             ],
             [
              0.8888888888888888,
              "#fdca26"
             ],
             [
              1,
              "#f0f921"
             ]
            ],
            "type": "heatmap"
           }
          ],
          "heatmapgl": [
           {
            "colorbar": {
             "outlinewidth": 0,
             "ticks": ""
            },
            "colorscale": [
             [
              0,
              "#0d0887"
             ],
             [
              0.1111111111111111,
              "#46039f"
             ],
             [
              0.2222222222222222,
              "#7201a8"
             ],
             [
              0.3333333333333333,
              "#9c179e"
             ],
             [
              0.4444444444444444,
              "#bd3786"
             ],
             [
              0.5555555555555556,
              "#d8576b"
             ],
             [
              0.6666666666666666,
              "#ed7953"
             ],
             [
              0.7777777777777778,
              "#fb9f3a"
             ],
             [
              0.8888888888888888,
              "#fdca26"
             ],
             [
              1,
              "#f0f921"
             ]
            ],
            "type": "heatmapgl"
           }
          ],
          "histogram": [
           {
            "marker": {
             "pattern": {
              "fillmode": "overlay",
              "size": 10,
              "solidity": 0.2
             }
            },
            "type": "histogram"
           }
          ],
          "histogram2d": [
           {
            "colorbar": {
             "outlinewidth": 0,
             "ticks": ""
            },
            "colorscale": [
             [
              0,
              "#0d0887"
             ],
             [
              0.1111111111111111,
              "#46039f"
             ],
             [
              0.2222222222222222,
              "#7201a8"
             ],
             [
              0.3333333333333333,
              "#9c179e"
             ],
             [
              0.4444444444444444,
              "#bd3786"
             ],
             [
              0.5555555555555556,
              "#d8576b"
             ],
             [
              0.6666666666666666,
              "#ed7953"
             ],
             [
              0.7777777777777778,
              "#fb9f3a"
             ],
             [
              0.8888888888888888,
              "#fdca26"
             ],
             [
              1,
              "#f0f921"
             ]
            ],
            "type": "histogram2d"
           }
          ],
          "histogram2dcontour": [
           {
            "colorbar": {
             "outlinewidth": 0,
             "ticks": ""
            },
            "colorscale": [
             [
              0,
              "#0d0887"
             ],
             [
              0.1111111111111111,
              "#46039f"
             ],
             [
              0.2222222222222222,
              "#7201a8"
             ],
             [
              0.3333333333333333,
              "#9c179e"
             ],
             [
              0.4444444444444444,
              "#bd3786"
             ],
             [
              0.5555555555555556,
              "#d8576b"
             ],
             [
              0.6666666666666666,
              "#ed7953"
             ],
             [
              0.7777777777777778,
              "#fb9f3a"
             ],
             [
              0.8888888888888888,
              "#fdca26"
             ],
             [
              1,
              "#f0f921"
             ]
            ],
            "type": "histogram2dcontour"
           }
          ],
          "mesh3d": [
           {
            "colorbar": {
             "outlinewidth": 0,
             "ticks": ""
            },
            "type": "mesh3d"
           }
          ],
          "parcoords": [
           {
            "line": {
             "colorbar": {
              "outlinewidth": 0,
              "ticks": ""
             }
            },
            "type": "parcoords"
           }
          ],
          "pie": [
           {
            "automargin": true,
            "type": "pie"
           }
          ],
          "scatter": [
           {
            "fillpattern": {
             "fillmode": "overlay",
             "size": 10,
             "solidity": 0.2
            },
            "type": "scatter"
           }
          ],
          "scatter3d": [
           {
            "line": {
             "colorbar": {
              "outlinewidth": 0,
              "ticks": ""
             }
            },
            "marker": {
             "colorbar": {
              "outlinewidth": 0,
              "ticks": ""
             }
            },
            "type": "scatter3d"
           }
          ],
          "scattercarpet": [
           {
            "marker": {
             "colorbar": {
              "outlinewidth": 0,
              "ticks": ""
             }
            },
            "type": "scattercarpet"
           }
          ],
          "scattergeo": [
           {
            "marker": {
             "colorbar": {
              "outlinewidth": 0,
              "ticks": ""
             }
            },
            "type": "scattergeo"
           }
          ],
          "scattergl": [
           {
            "marker": {
             "colorbar": {
              "outlinewidth": 0,
              "ticks": ""
             }
            },
            "type": "scattergl"
           }
          ],
          "scattermapbox": [
           {
            "marker": {
             "colorbar": {
              "outlinewidth": 0,
              "ticks": ""
             }
            },
            "type": "scattermapbox"
           }
          ],
          "scatterpolar": [
           {
            "marker": {
             "colorbar": {
              "outlinewidth": 0,
              "ticks": ""
             }
            },
            "type": "scatterpolar"
           }
          ],
          "scatterpolargl": [
           {
            "marker": {
             "colorbar": {
              "outlinewidth": 0,
              "ticks": ""
             }
            },
            "type": "scatterpolargl"
           }
          ],
          "scatterternary": [
           {
            "marker": {
             "colorbar": {
              "outlinewidth": 0,
              "ticks": ""
             }
            },
            "type": "scatterternary"
           }
          ],
          "surface": [
           {
            "colorbar": {
             "outlinewidth": 0,
             "ticks": ""
            },
            "colorscale": [
             [
              0,
              "#0d0887"
             ],
             [
              0.1111111111111111,
              "#46039f"
             ],
             [
              0.2222222222222222,
              "#7201a8"
             ],
             [
              0.3333333333333333,
              "#9c179e"
             ],
             [
              0.4444444444444444,
              "#bd3786"
             ],
             [
              0.5555555555555556,
              "#d8576b"
             ],
             [
              0.6666666666666666,
              "#ed7953"
             ],
             [
              0.7777777777777778,
              "#fb9f3a"
             ],
             [
              0.8888888888888888,
              "#fdca26"
             ],
             [
              1,
              "#f0f921"
             ]
            ],
            "type": "surface"
           }
          ],
          "table": [
           {
            "cells": {
             "fill": {
              "color": "#EBF0F8"
             },
             "line": {
              "color": "white"
             }
            },
            "header": {
             "fill": {
              "color": "#C8D4E3"
             },
             "line": {
              "color": "white"
             }
            },
            "type": "table"
           }
          ]
         },
         "layout": {
          "annotationdefaults": {
           "arrowcolor": "#2a3f5f",
           "arrowhead": 0,
           "arrowwidth": 1
          },
          "autotypenumbers": "strict",
          "coloraxis": {
           "colorbar": {
            "outlinewidth": 0,
            "ticks": ""
           }
          },
          "colorscale": {
           "diverging": [
            [
             0,
             "#8e0152"
            ],
            [
             0.1,
             "#c51b7d"
            ],
            [
             0.2,
             "#de77ae"
            ],
            [
             0.3,
             "#f1b6da"
            ],
            [
             0.4,
             "#fde0ef"
            ],
            [
             0.5,
             "#f7f7f7"
            ],
            [
             0.6,
             "#e6f5d0"
            ],
            [
             0.7,
             "#b8e186"
            ],
            [
             0.8,
             "#7fbc41"
            ],
            [
             0.9,
             "#4d9221"
            ],
            [
             1,
             "#276419"
            ]
           ],
           "sequential": [
            [
             0,
             "#0d0887"
            ],
            [
             0.1111111111111111,
             "#46039f"
            ],
            [
             0.2222222222222222,
             "#7201a8"
            ],
            [
             0.3333333333333333,
             "#9c179e"
            ],
            [
             0.4444444444444444,
             "#bd3786"
            ],
            [
             0.5555555555555556,
             "#d8576b"
            ],
            [
             0.6666666666666666,
             "#ed7953"
            ],
            [
             0.7777777777777778,
             "#fb9f3a"
            ],
            [
             0.8888888888888888,
             "#fdca26"
            ],
            [
             1,
             "#f0f921"
            ]
           ],
           "sequentialminus": [
            [
             0,
             "#0d0887"
            ],
            [
             0.1111111111111111,
             "#46039f"
            ],
            [
             0.2222222222222222,
             "#7201a8"
            ],
            [
             0.3333333333333333,
             "#9c179e"
            ],
            [
             0.4444444444444444,
             "#bd3786"
            ],
            [
             0.5555555555555556,
             "#d8576b"
            ],
            [
             0.6666666666666666,
             "#ed7953"
            ],
            [
             0.7777777777777778,
             "#fb9f3a"
            ],
            [
             0.8888888888888888,
             "#fdca26"
            ],
            [
             1,
             "#f0f921"
            ]
           ]
          },
          "colorway": [
           "#636efa",
           "#EF553B",
           "#00cc96",
           "#ab63fa",
           "#FFA15A",
           "#19d3f3",
           "#FF6692",
           "#B6E880",
           "#FF97FF",
           "#FECB52"
          ],
          "font": {
           "color": "#2a3f5f"
          },
          "geo": {
           "bgcolor": "white",
           "lakecolor": "white",
           "landcolor": "#E5ECF6",
           "showlakes": true,
           "showland": true,
           "subunitcolor": "white"
          },
          "hoverlabel": {
           "align": "left"
          },
          "hovermode": "closest",
          "mapbox": {
           "style": "light"
          },
          "paper_bgcolor": "white",
          "plot_bgcolor": "#E5ECF6",
          "polar": {
           "angularaxis": {
            "gridcolor": "white",
            "linecolor": "white",
            "ticks": ""
           },
           "bgcolor": "#E5ECF6",
           "radialaxis": {
            "gridcolor": "white",
            "linecolor": "white",
            "ticks": ""
           }
          },
          "scene": {
           "xaxis": {
            "backgroundcolor": "#E5ECF6",
            "gridcolor": "white",
            "gridwidth": 2,
            "linecolor": "white",
            "showbackground": true,
            "ticks": "",
            "zerolinecolor": "white"
           },
           "yaxis": {
            "backgroundcolor": "#E5ECF6",
            "gridcolor": "white",
            "gridwidth": 2,
            "linecolor": "white",
            "showbackground": true,
            "ticks": "",
            "zerolinecolor": "white"
           },
           "zaxis": {
            "backgroundcolor": "#E5ECF6",
            "gridcolor": "white",
            "gridwidth": 2,
            "linecolor": "white",
            "showbackground": true,
            "ticks": "",
            "zerolinecolor": "white"
           }
          },
          "shapedefaults": {
           "line": {
            "color": "#2a3f5f"
           }
          },
          "ternary": {
           "aaxis": {
            "gridcolor": "white",
            "linecolor": "white",
            "ticks": ""
           },
           "baxis": {
            "gridcolor": "white",
            "linecolor": "white",
            "ticks": ""
           },
           "bgcolor": "#E5ECF6",
           "caxis": {
            "gridcolor": "white",
            "linecolor": "white",
            "ticks": ""
           }
          },
          "title": {
           "x": 0.05
          },
          "xaxis": {
           "automargin": true,
           "gridcolor": "white",
           "linecolor": "white",
           "ticks": "",
           "title": {
            "standoff": 15
           },
           "zerolinecolor": "white",
           "zerolinewidth": 2
          },
          "yaxis": {
           "automargin": true,
           "gridcolor": "white",
           "linecolor": "white",
           "ticks": "",
           "title": {
            "standoff": 15
           },
           "zerolinecolor": "white",
           "zerolinewidth": 2
          }
         }
        },
        "title": {
         "text": "Previsão de Fechamento (35 dias)"
        },
        "width": 900,
        "xaxis": {
         "tickangle": -90,
         "title": {
          "text": "Data"
         }
        },
        "yaxis": {
         "title": {
          "text": "Valor Fechamento"
         }
        }
       }
      }
     },
     "metadata": {},
     "output_type": "display_data"
    }
   ],
   "source": [
    "fig = go.Figure()\n",
    "\n",
    "# Linha do dataset original 'dados'\n",
    "fig.add_trace(go.Scatter(x=dados.index[-(days_to_predict*5):], \n",
    "                         y=dados[target][-(days_to_predict*5):], \n",
    "                         mode='lines', \n",
    "                         name='Dados Anteriores'))\n",
    "\n",
    "# Linha dos dados previstos 'dados_forward'\n",
    "fig.add_trace(go.Scatter(x=dados_forward.index[-(days_to_predict+1):], \n",
    "                         y=dados_forward[target][-(days_to_predict+1):], \n",
    "                         mode='lines', \n",
    "                         name='Previsões'))\n",
    "\n",
    "# Ajuste dos rótulos do eixo x e rotação\n",
    "fig.update_layout(\n",
    "    xaxis=dict(tickangle=-90),  # Rotação vertical dos rótulos\n",
    "    title=\"Previsão de Fechamento (35 dias)\",\n",
    "    xaxis_title=\"Data\",\n",
    "    yaxis_title=\"Valor Fechamento\",\n",
    "    legend_title=\"Legenda\",\n",
    "    height=600,\n",
    "    width=900\n",
    ")\n",
    "\n",
    "# Exibindo o gráfico\n",
    "fig.show()"
   ]
  }
 ],
 "metadata": {
  "kernelspec": {
   "display_name": "Python 3",
   "language": "python",
   "name": "python3"
  },
  "language_info": {
   "codemirror_mode": {
    "name": "ipython",
    "version": 3
   },
   "file_extension": ".py",
   "mimetype": "text/x-python",
   "name": "python",
   "nbconvert_exporter": "python",
   "pygments_lexer": "ipython3",
   "version": "3.11.1"
  }
 },
 "nbformat": 4,
 "nbformat_minor": 2
}
